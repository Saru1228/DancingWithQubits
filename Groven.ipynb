{
 "cells": [
  {
   "cell_type": "code",
   "execution_count": 22,
   "id": "8e4847d8",
   "metadata": {},
   "outputs": [
    {
     "data": {
      "image/png": "[encoded data removed]",
      "text/plain": [
       "<Figure size 1123.41x284.278 with 1 Axes>"
      ]
     },
     "execution_count": 22,
     "metadata": {},
     "output_type": "execute_result"
    }
   ],
   "source": [
    "from qiskit import QuantumCircuit\n",
    "import matplotlib.pyplot as plt\n",
    "\n",
    "n_qubits = 2\n",
    "grover_circuit = QuantumCircuit(n_qubits, n_qubits)\n",
    "grover_circuit.h(range(n_qubits))\n",
    "grover_circuit.x(0)       # X on qubit 0 to turn |01> into |00>\n",
    "grover_circuit.cz(0, 1)   # Controlled-Z (flips phase if both are 1)\n",
    "grover_circuit.x(0)\n",
    "\n",
    "##\n",
    "grover_circuit.h(range(n_qubits))\n",
    "grover_circuit.x(range(n_qubits))\n",
    "grover_circuit.h(1)       # Controlled-Z using H-CX-H\n",
    "grover_circuit.cx(0, 1)\n",
    "grover_circuit.h(1)\n",
    "grover_circuit.x(range(n_qubits))\n",
    "grover_circuit.h(range(n_qubits))\n",
    "##\n",
    "grover_circuit.measure(range(n_qubits), range(n_qubits))\n",
    "##\n",
    "grover_circuit.draw(output=\"mpl\")"
   ]
  },
  {
   "cell_type": "code",
   "execution_count": 23,
   "id": "4f67c3c4",
   "metadata": {},
   "outputs": [],
   "source": [
    "plt.show()"
   ]
  },
  {
   "cell_type": "code",
   "execution_count": null,
   "id": "2d46d215",
   "metadata": {},
   "outputs": [
    {
     "name": "stderr",
     "output_type": "stream",
     "text": [
      "C:\\Users\\Saru\\AppData\\Local\\Temp\\ipykernel_15084\\2130873363.py:5: DeprecationWarning: The \"ibm_quantum\" channel option is deprecated and will be sunset on 1 July. After this date, \"ibm_cloud\", \"ibm_quantum_platform\", and \"local\" will be the only valid channels. Open Plan users should migrate now.  All other users should review the migration guide (https://quantum.cloud.ibm.com/docs/migration-guides/classic-iqp-to-cloud-iqp)to learn when to migrate.\n",
      "  service = QiskitRuntimeService(channel=\"ibm_quantum\",\n"
     ]
    },
    {
     "name": "stdout",
     "output_type": "stream",
     "text": [
      "Done getting the backend\n"
     ]
    }
   ],
   "source": [
    "from qiskit import transpile\n",
    "from qiskit_ibm_runtime import QiskitRuntimeService\n",
    "\n",
    "backend = 'ibm_brisbane'\n",
    "service = QiskitRuntimeService(channel=\"ibm_quantum\",\n",
    "                               token=\"\")\n",
    "backend = service.backend(name=\"ibm_brisbane\")\n",
    "print('Done getting the backend')\n",
    "\n",
    "qc_transpiled_list = transpile(grover_circuit, backend=backend, optimization_level=1)"
   ]
  },
  {
   "cell_type": "code",
   "execution_count": 30,
   "id": "696f600f",
   "metadata": {},
   "outputs": [
    {
     "name": "stderr",
     "output_type": "stream",
     "text": [
      "C:\\Users\\Saru\\AppData\\Local\\Temp\\ipykernel_15084\\3437010512.py:3: DeprecationWarning: The \"ibm_quantum\" channel option is deprecated and will be sunset on 1 July. After this date, \"ibm_cloud\", \"ibm_quantum_platform\", and \"local\" will be the only valid channels. Open Plan users should migrate now.  All other users should review the migration guide (https://quantum.cloud.ibm.com/docs/migration-guides/classic-iqp-to-cloud-iqp)to learn when to migrate.\n",
      "  service = QiskitRuntimeService()\n",
      "d:\\miniconda3\\Lib\\site-packages\\qiskit_ibm_runtime\\qiskit_runtime_service.py:1129: UserWarning: IBM Quantum Platform is moving, and this version will be sunset on July 1. To get started on the new platform, read the migration guide at https://docs.quantum.ibm.com/migration-guides/classic-iqp-to-cloud-iqp\n",
      "  warnings.warn(warning_message)\n"
     ]
    },
    {
     "name": "stdout",
     "output_type": "stream",
     "text": [
      "Job ID: d18cb0wn2txg008kke40\n",
      "PrimitiveResult([SamplerPubResult(data=DataBin(c=BitArray(<shape=(), num_shots=4096, num_bits=2>)), metadata={'circuit_metadata': {}})], metadata={'execution': {'execution_spans': ExecutionSpans([DoubleSliceSpan(<start='2025-06-17 02:13:34', stop='2025-06-17 02:13:36', size=4096>)])}, 'version': 2})\n"
     ]
    }
   ],
   "source": [
    "from qiskit_ibm_runtime import QiskitRuntimeService, Sampler\n",
    "\n",
    "service = QiskitRuntimeService()\n",
    "backend = service.backend(\"ibm_brisbane\")\n",
    "\n",
    "sampler = Sampler(mode=backend) \n",
    "sampler.options.dynamical_decoupling.enable = True\n",
    "sampler.options.dynamical_decoupling.sequence_type = \"XY4\"\n",
    "\n",
    "job = sampler.run([qc_transpiled_list])\n",
    "print(\"Job ID:\", job.job_id())\n",
    "result = job.result()\n",
    "print(result)"
   ]
  },
  {
   "cell_type": "code",
   "execution_count": 55,
   "id": "444d0ae3",
   "metadata": {},
   "outputs": [
    {
     "name": "stdout",
     "output_type": "stream",
     "text": [
      ">>> result type: <class 'qiskit.primitives.containers.primitive_result.PrimitiveResult'>\n",
      ">>> result dir(): ['__annotations__', '__class__', '__class_getitem__', '__delattr__', '__dict__', '__dir__', '__doc__', '__eq__', '__firstlineno__', '__format__', '__ge__', '__getattribute__', '__getitem__', '__getstate__', '__gt__', '__hash__', '__init__', '__init_subclass__', '__iter__', '__le__', '__len__', '__lt__', '__module__', '__ne__', '__new__', '__orig_bases__', '__parameters__', '__reduce__', '__reduce_ex__', '__repr__', '__setattr__', '__sizeof__', '__static_attributes__', '__str__', '__subclasshook__', '__weakref__', '_metadata', '_pub_results', 'metadata']\n",
      ">>> result length: 1\n",
      ">>> type(result[0]): <class 'qiskit.primitives.containers.sampler_pub_result.SamplerPubResult'>\n",
      ">>> result[0] has .data? True\n",
      ">>> type(result[0].data): <class 'qiskit.primitives.containers.data_bin.DataBin'>\n",
      ">>> data object dir(): ['_FIELDS', '_FIELD_TYPES', '_RESTRICTED_NAMES', '_SHAPE', '__abstractmethods__', '__annotations__', '__class__', '__class_getitem__', '__contains__', '__delattr__', '__dict__', '__dir__', '__doc__', '__eq__', '__firstlineno__', '__format__', '__ge__', '__getattribute__', '__getitem__', '__getstate__', '__gt__', '__hash__', '__init__', '__init_subclass__', '__iter__', '__le__', '__len__', '__lt__', '__module__', '__ne__', '__new__', '__non_callable_proto_members__', '__parameters__', '__protocol_attrs__', '__reduce__', '__reduce_ex__', '__repr__', '__setattr__', '__sizeof__', '__slots__', '__static_attributes__', '__str__', '__subclasshook__', '__weakref__', '_abc_impl', '_data', '_is_protocol', '_is_runtime_protocol', '_shape', 'c', 'items', 'keys', 'ndim', 'shape', 'size', 'values']\n",
      ">>> YES: result[0].data.c type: <class 'qiskit.primitives.containers.bit_array.BitArray'>\n"
     ]
    }
   ],
   "source": [
    "result = job.result()\n",
    "\n",
    "# 打印 result 的类型和可访问属性\n",
    "print(\">>> result type:\", type(result))\n",
    "print(\">>> result dir():\", dir(result))\n",
    "print(\">>> result length:\", len(result))  # 说明包含多少个结果（电路）\n",
    "\n",
    "# 获取第一个电路的结果对象（SamplerPubResult）\n",
    "r0 = result[0]\n",
    "print(\">>> type(result[0]):\", type(r0))\n",
    "print(\">>> result[0] has .data?\", hasattr(r0, 'data'))\n",
    "\n",
    "# 获取 .data 内容\n",
    "print(\">>> type(result[0].data):\", type(r0.data))\n",
    "print(\">>> data object dir():\", dir(r0.data))\n",
    "\n",
    "# 探索 .data 是否有比特串\n",
    "if hasattr(r0.data, \"c\"):\n",
    "    print(\">>> YES: result[0].data.c type:\", type(r0.data.c))\n",
    "else:\n",
    "    print(\">>> ❌ result[0].data has no .c attribute\")\n"
   ]
  },
  {
   "cell_type": "code",
   "execution_count": 56,
   "id": "159e4e95",
   "metadata": {},
   "outputs": [],
   "source": [
    "def extract_quasi_dist_from_sampler_result(result, bit_width=2):\n",
    "    \"\"\"\n",
    "    从 Qiskit Sampler 的 PrimitiveResult 中提取测量概率分布。\n",
    "    \"\"\"\n",
    "    data = result[0].data\n",
    "    bit_array = data.c  # c 就是 BitArray 结构\n",
    "    counts = bit_array.get_counts()  # 得到 {'00': 123, '01': 3980, ...}\n",
    "    total = sum(counts.values())\n",
    "    # 转为：{0: 0.03, 1: 0.92, 2: 0.05}\n",
    "    return {int(bitstr, 2): count / total for bitstr, count in counts.items()}\n"
   ]
  },
  {
   "cell_type": "code",
   "execution_count": 67,
   "id": "b8914810",
   "metadata": {},
   "outputs": [
    {
     "name": "stdout",
     "output_type": "stream",
     "text": [
      "状态 |10⟩ 概率: 0.9080\n",
      "状态 |11⟩ 概率: 0.0632\n",
      "状态 |00⟩ 概率: 0.0242\n",
      "状态 |01⟩ 概率: 0.0046\n"
     ]
    }
   ],
   "source": [
    "result = job.result()\n",
    "quasi_dist = extract_quasi_dist_from_sampler_result(result, bit_width=2)\n",
    "\n",
    "x_axis =[]\n",
    "y_prob =[]\n",
    "for state, prob in sorted(quasi_dist.items(), key=lambda x: -x[1]):\n",
    "    bit_str = format(state, '02b')  # 转为二进制\n",
    "    x_axis.append(bit_str)\n",
    "    y_prob.append(prob)\n",
    "    print(f\"状态 |{bit_str}⟩ 概率: {prob:.4f}\")\n"
   ]
  },
  {
   "cell_type": "code",
   "execution_count": 70,
   "id": "16f8479d",
   "metadata": {},
   "outputs": [
    {
     "data": {
      "image/png": "[encoded data removed]",
      "text/plain": [
       "<Figure size 640x480 with 1 Axes>"
      ]
     },
     "metadata": {},
     "output_type": "display_data"
    }
   ],
   "source": [
    "import matplotlib.pyplot as plt\n",
    "\n",
    "plt.bar(x_axis, y_prob)\n",
    "plt.title(\"Grover Result\")\n",
    "plt.xlabel(\"Measure state\")\n",
    "plt.ylabel(\"Probability\")\n",
    "plt.ylim(0, 1)\n",
    "plt.grid(axis='y', linestyle='--', alpha=0.5)\n",
    "plt.show()\n"
   ]
  }
 ],
 "metadata": {
  "kernelspec": {
   "display_name": "base",
   "language": "python",
   "name": "python3"
  },
  "language_info": {
   "codemirror_mode": {
    "name": "ipython",
    "version": 3
   },
   "file_extension": ".py",
   "mimetype": "text/x-python",
   "name": "python",
   "nbconvert_exporter": "python",
   "pygments_lexer": "ipython3",
   "version": "3.13.4"
  }
 },
 "nbformat": 4,
 "nbformat_minor": 5
}
