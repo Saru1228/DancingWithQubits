{
 "cells": [
  {
   "cell_type": "markdown",
   "id": "a66c48af",
   "metadata": {},
   "source": [
    "# Simon's Algorithm"
   ]
  },
  {
   "cell_type": "code",
   "execution_count": 1,
   "id": "49d8b4fd",
   "metadata": {},
   "outputs": [],
   "source": [
    "from qiskit import QuantumCircuit, transpile\n",
    "from qiskit_aer import AerSimulator\n",
    "from qiskit.visualization import plot_histogram\n",
    "import numpy as np\n",
    "import pylatexenc\n",
    "from sympy import Matrix\n",
    "import matplotlib.pyplot as plt"
   ]
  },
  {
   "cell_type": "code",
   "execution_count": 2,
   "id": "4b67927a",
   "metadata": {},
   "outputs": [],
   "source": [
    "s = '10'\n",
    "n = len(s)"
   ]
  },
  {
   "cell_type": "code",
   "execution_count": 3,
   "id": "9be07dfe",
   "metadata": {},
   "outputs": [],
   "source": [
    "import random\n",
    "def construct_oracle_map(s):\n",
    "    seen = set()\n",
    "    mapping = {}\n",
    "    for i in range(2**n):\n",
    "        x = format(i, f'0{n}b')\n",
    "        x_xor_s = format(i ^ int(s, 2), f'0{n}b')\n",
    "        if x in seen or x_xor_s in seen:\n",
    "            continue\n",
    "        value = format(random.randint(0, 2**n - 1), f'0{n}b')  # 随机 f(x)\n",
    "        mapping[x] = value\n",
    "        mapping[x_xor_s] = value\n",
    "        seen.add(x)\n",
    "        seen.add(x_xor_s)\n",
    "    return mapping"
   ]
  },
  {
   "cell_type": "code",
   "execution_count": 4,
   "id": "39d2aee8",
   "metadata": {},
   "outputs": [],
   "source": [
    "oracle_map = construct_oracle_map(s)"
   ]
  },
  {
   "cell_type": "code",
   "execution_count": 5,
   "id": "d0da7417",
   "metadata": {},
   "outputs": [],
   "source": [
    "def simon_oracle(map_dict):\n",
    "    qc = QuantumCircuit(n * 2)\n",
    "    for x, fx in map_dict.items():\n",
    "        for i, bit in enumerate(x):\n",
    "            if bit == '1':\n",
    "                qc.x(i)\n",
    "        for i, bit in enumerate(fx):\n",
    "            if bit == '1':\n",
    "                qc.cx(i, i + n)\n",
    "        for i, bit in enumerate(x[::-1]):\n",
    "            if bit == '1':\n",
    "                qc.x(i)\n",
    "    return qc"
   ]
  },
  {
   "cell_type": "code",
   "execution_count": 6,
   "id": "aaf05bb7",
   "metadata": {},
   "outputs": [],
   "source": [
    "def simon_once(oracle_gate):\n",
    "    qc = QuantumCircuit(n * 2, n)\n",
    "\n",
    "    # 初始化输入寄存器为叠加态\n",
    "    qc.h(range(n))\n",
    "\n",
    "    # 应用 oracle\n",
    "    qc.append(oracle_gate.to_gate(), range(n * 2))\n",
    "\n",
    "    # 对前 n 位再做 Hadamard\n",
    "    qc.h(range(n))\n",
    "\n",
    "    # 测量前 n 位\n",
    "    qc.measure(range(n), range(n))\n",
    "\n",
    "    sim = AerSimulator(method = 'statevector', device = 'GPU')\n",
    "    qc_t = transpile(qc, sim)\n",
    "    result = sim.run(qc_t, shots=1).result()\n",
    "    counts = result.get_counts()\n",
    "    return list(counts.keys())[0]"
   ]
  },
  {
   "cell_type": "code",
   "execution_count": 7,
   "id": "2c236d81",
   "metadata": {},
   "outputs": [],
   "source": [
    "def get_independent_equations(s, oracle_gate, max_trials=20):\n",
    "    equations = []\n",
    "    attempts = 0\n",
    "    while len(equations) < len(s) - 1 and attempts < max_trials:\n",
    "        y = simon_once(oracle_gate)\n",
    "        if y == '0'*len(s):\n",
    "            continue  # 跳过无效结果\n",
    "        if y not in equations:\n",
    "            equations.append(y)\n",
    "        attempts += 1\n",
    "    return equations\n"
   ]
  },
  {
   "cell_type": "code",
   "execution_count": 8,
   "id": "8159ad4c",
   "metadata": {},
   "outputs": [],
   "source": [
    "def solve_linear_system(equations):\n",
    "    mat = []\n",
    "    for row in equations:\n",
    "        mat.append([int(b) for b in row])\n",
    "    M = Matrix(mat)\n",
    "    null_space = M.nullspace()\n",
    "    if not null_space:\n",
    "        return None\n",
    "    vec = null_space[0] % 2\n",
    "    return ''.join(str(i) for i in vec)"
   ]
  },
  {
   "cell_type": "code",
   "execution_count": 9,
   "id": "35805d90",
   "metadata": {},
   "outputs": [
    {
     "ename": "RuntimeError",
     "evalue": "Simulation device \"GPU\" is not supported on this system",
     "output_type": "error",
     "traceback": [
      "\u001b[31m---------------------------------------------------------------------------\u001b[39m",
      "\u001b[31mRuntimeError\u001b[39m                              Traceback (most recent call last)",
      "\u001b[36mCell\u001b[39m\u001b[36m \u001b[39m\u001b[32mIn[9]\u001b[39m\u001b[32m, line 5\u001b[39m\n\u001b[32m      2\u001b[39m oracle_gate = simon_oracle(oracle_map)\n\u001b[32m      4\u001b[39m \u001b[38;5;66;03m# 运行 Simon 算法若干次\u001b[39;00m\n\u001b[32m----> \u001b[39m\u001b[32m5\u001b[39m eqs = \u001b[43mget_independent_equations\u001b[49m\u001b[43m(\u001b[49m\u001b[43ms\u001b[49m\u001b[43m,\u001b[49m\u001b[43m \u001b[49m\u001b[43moracle_gate\u001b[49m\u001b[43m)\u001b[49m\n",
      "\u001b[36mCell\u001b[39m\u001b[36m \u001b[39m\u001b[32mIn[7]\u001b[39m\u001b[32m, line 5\u001b[39m, in \u001b[36mget_independent_equations\u001b[39m\u001b[34m(s, oracle_gate, max_trials)\u001b[39m\n\u001b[32m      3\u001b[39m attempts = \u001b[32m0\u001b[39m\n\u001b[32m      4\u001b[39m \u001b[38;5;28;01mwhile\u001b[39;00m \u001b[38;5;28mlen\u001b[39m(equations) < \u001b[38;5;28mlen\u001b[39m(s) - \u001b[32m1\u001b[39m \u001b[38;5;129;01mand\u001b[39;00m attempts < max_trials:\n\u001b[32m----> \u001b[39m\u001b[32m5\u001b[39m     y = \u001b[43msimon_once\u001b[49m\u001b[43m(\u001b[49m\u001b[43moracle_gate\u001b[49m\u001b[43m)\u001b[49m\n\u001b[32m      6\u001b[39m     \u001b[38;5;28;01mif\u001b[39;00m y == \u001b[33m'\u001b[39m\u001b[33m0\u001b[39m\u001b[33m'\u001b[39m*\u001b[38;5;28mlen\u001b[39m(s):\n\u001b[32m      7\u001b[39m         \u001b[38;5;28;01mcontinue\u001b[39;00m  \u001b[38;5;66;03m# 跳过无效结果\u001b[39;00m\n",
      "\u001b[36mCell\u001b[39m\u001b[36m \u001b[39m\u001b[32mIn[6]\u001b[39m\u001b[32m, line 18\u001b[39m, in \u001b[36msimon_once\u001b[39m\u001b[34m(oracle_gate)\u001b[39m\n\u001b[32m     16\u001b[39m sim = AerSimulator(method = \u001b[33m'\u001b[39m\u001b[33mstatevector\u001b[39m\u001b[33m'\u001b[39m, device = \u001b[33m'\u001b[39m\u001b[33mGPU\u001b[39m\u001b[33m'\u001b[39m)\n\u001b[32m     17\u001b[39m qc_t = transpile(qc, sim)\n\u001b[32m---> \u001b[39m\u001b[32m18\u001b[39m result = \u001b[43msim\u001b[49m\u001b[43m.\u001b[49m\u001b[43mrun\u001b[49m\u001b[43m(\u001b[49m\u001b[43mqc_t\u001b[49m\u001b[43m,\u001b[49m\u001b[43m \u001b[49m\u001b[43mshots\u001b[49m\u001b[43m=\u001b[49m\u001b[32;43m1\u001b[39;49m\u001b[43m)\u001b[49m\u001b[43m.\u001b[49m\u001b[43mresult\u001b[49m\u001b[43m(\u001b[49m\u001b[43m)\u001b[49m\n\u001b[32m     19\u001b[39m counts = result.get_counts()\n\u001b[32m     20\u001b[39m \u001b[38;5;28;01mreturn\u001b[39;00m \u001b[38;5;28mlist\u001b[39m(counts.keys())[\u001b[32m0\u001b[39m]\n",
      "\u001b[36mFile \u001b[39m\u001b[32md:\\miniconda3\\Lib\\site-packages\\qiskit_aer\\jobs\\utils.py:38\u001b[39m, in \u001b[36mrequires_submit.<locals>._wrapper\u001b[39m\u001b[34m(self, *args, **kwargs)\u001b[39m\n\u001b[32m     36\u001b[39m \u001b[38;5;28;01mif\u001b[39;00m \u001b[38;5;28mself\u001b[39m._future \u001b[38;5;129;01mis\u001b[39;00m \u001b[38;5;28;01mNone\u001b[39;00m:\n\u001b[32m     37\u001b[39m     \u001b[38;5;28;01mraise\u001b[39;00m JobError(\u001b[33m\"\u001b[39m\u001b[33mJob not submitted yet!. You have to .submit() first!\u001b[39m\u001b[33m\"\u001b[39m)\n\u001b[32m---> \u001b[39m\u001b[32m38\u001b[39m \u001b[38;5;28;01mreturn\u001b[39;00m \u001b[43mfunc\u001b[49m\u001b[43m(\u001b[49m\u001b[38;5;28;43mself\u001b[39;49m\u001b[43m,\u001b[49m\u001b[43m \u001b[49m\u001b[43m*\u001b[49m\u001b[43margs\u001b[49m\u001b[43m,\u001b[49m\u001b[43m \u001b[49m\u001b[43m*\u001b[49m\u001b[43m*\u001b[49m\u001b[43mkwargs\u001b[49m\u001b[43m)\u001b[49m\n",
      "\u001b[36mFile \u001b[39m\u001b[32md:\\miniconda3\\Lib\\site-packages\\qiskit_aer\\jobs\\aerjob.py:96\u001b[39m, in \u001b[36mAerJob.result\u001b[39m\u001b[34m(self, timeout)\u001b[39m\n\u001b[32m     78\u001b[39m \u001b[38;5;129m@requires_submit\u001b[39m\n\u001b[32m     79\u001b[39m \u001b[38;5;28;01mdef\u001b[39;00m\u001b[38;5;250m \u001b[39m\u001b[34mresult\u001b[39m(\u001b[38;5;28mself\u001b[39m, timeout=\u001b[38;5;28;01mNone\u001b[39;00m):\n\u001b[32m     80\u001b[39m     \u001b[38;5;66;03m# pylint: disable=arguments-differ\u001b[39;00m\n\u001b[32m     81\u001b[39m \u001b[38;5;250m    \u001b[39m\u001b[33;03m\"\"\"Get job result. The behavior is the same as the underlying\u001b[39;00m\n\u001b[32m     82\u001b[39m \u001b[33;03m    concurrent Future objects,\u001b[39;00m\n\u001b[32m     83\u001b[39m \n\u001b[32m   (...)\u001b[39m\u001b[32m     94\u001b[39m \u001b[33;03m        concurrent.futures.CancelledError: if job cancelled before completed.\u001b[39;00m\n\u001b[32m     95\u001b[39m \u001b[33;03m    \"\"\"\u001b[39;00m\n\u001b[32m---> \u001b[39m\u001b[32m96\u001b[39m     \u001b[38;5;28;01mreturn\u001b[39;00m \u001b[38;5;28;43mself\u001b[39;49m\u001b[43m.\u001b[49m\u001b[43m_future\u001b[49m\u001b[43m.\u001b[49m\u001b[43mresult\u001b[49m\u001b[43m(\u001b[49m\u001b[43mtimeout\u001b[49m\u001b[43m=\u001b[49m\u001b[43mtimeout\u001b[49m\u001b[43m)\u001b[49m\n",
      "\u001b[36mFile \u001b[39m\u001b[32md:\\miniconda3\\Lib\\concurrent\\futures\\_base.py:449\u001b[39m, in \u001b[36mFuture.result\u001b[39m\u001b[34m(self, timeout)\u001b[39m\n\u001b[32m    447\u001b[39m     \u001b[38;5;28;01mraise\u001b[39;00m CancelledError()\n\u001b[32m    448\u001b[39m \u001b[38;5;28;01melif\u001b[39;00m \u001b[38;5;28mself\u001b[39m._state == FINISHED:\n\u001b[32m--> \u001b[39m\u001b[32m449\u001b[39m     \u001b[38;5;28;01mreturn\u001b[39;00m \u001b[38;5;28;43mself\u001b[39;49m\u001b[43m.\u001b[49m\u001b[43m__get_result\u001b[49m\u001b[43m(\u001b[49m\u001b[43m)\u001b[49m\n\u001b[32m    451\u001b[39m \u001b[38;5;28mself\u001b[39m._condition.wait(timeout)\n\u001b[32m    453\u001b[39m \u001b[38;5;28;01mif\u001b[39;00m \u001b[38;5;28mself\u001b[39m._state \u001b[38;5;129;01min\u001b[39;00m [CANCELLED, CANCELLED_AND_NOTIFIED]:\n",
      "\u001b[36mFile \u001b[39m\u001b[32md:\\miniconda3\\Lib\\concurrent\\futures\\_base.py:401\u001b[39m, in \u001b[36mFuture.__get_result\u001b[39m\u001b[34m(self)\u001b[39m\n\u001b[32m    399\u001b[39m \u001b[38;5;28;01mif\u001b[39;00m \u001b[38;5;28mself\u001b[39m._exception \u001b[38;5;129;01mis\u001b[39;00m \u001b[38;5;129;01mnot\u001b[39;00m \u001b[38;5;28;01mNone\u001b[39;00m:\n\u001b[32m    400\u001b[39m     \u001b[38;5;28;01mtry\u001b[39;00m:\n\u001b[32m--> \u001b[39m\u001b[32m401\u001b[39m         \u001b[38;5;28;01mraise\u001b[39;00m \u001b[38;5;28mself\u001b[39m._exception\n\u001b[32m    402\u001b[39m     \u001b[38;5;28;01mfinally\u001b[39;00m:\n\u001b[32m    403\u001b[39m         \u001b[38;5;66;03m# Break a reference cycle with the exception in self._exception\u001b[39;00m\n\u001b[32m    404\u001b[39m         \u001b[38;5;28mself\u001b[39m = \u001b[38;5;28;01mNone\u001b[39;00m\n",
      "\u001b[36mFile \u001b[39m\u001b[32md:\\miniconda3\\Lib\\concurrent\\futures\\thread.py:59\u001b[39m, in \u001b[36m_WorkItem.run\u001b[39m\u001b[34m(self)\u001b[39m\n\u001b[32m     56\u001b[39m     \u001b[38;5;28;01mreturn\u001b[39;00m\n\u001b[32m     58\u001b[39m \u001b[38;5;28;01mtry\u001b[39;00m:\n\u001b[32m---> \u001b[39m\u001b[32m59\u001b[39m     result = \u001b[38;5;28;43mself\u001b[39;49m\u001b[43m.\u001b[49m\u001b[43mfn\u001b[49m\u001b[43m(\u001b[49m\u001b[43m*\u001b[49m\u001b[38;5;28;43mself\u001b[39;49m\u001b[43m.\u001b[49m\u001b[43margs\u001b[49m\u001b[43m,\u001b[49m\u001b[43m \u001b[49m\u001b[43m*\u001b[49m\u001b[43m*\u001b[49m\u001b[38;5;28;43mself\u001b[39;49m\u001b[43m.\u001b[49m\u001b[43mkwargs\u001b[49m\u001b[43m)\u001b[49m\n\u001b[32m     60\u001b[39m \u001b[38;5;28;01mexcept\u001b[39;00m \u001b[38;5;167;01mBaseException\u001b[39;00m \u001b[38;5;28;01mas\u001b[39;00m exc:\n\u001b[32m     61\u001b[39m     \u001b[38;5;28mself\u001b[39m.future.set_exception(exc)\n",
      "\u001b[36mFile \u001b[39m\u001b[32md:\\miniconda3\\Lib\\site-packages\\qiskit_aer\\backends\\aerbackend.py:474\u001b[39m, in \u001b[36mAerBackend._execute_circuits_job\u001b[39m\u001b[34m(self, circuits, parameter_binds, run_options, job_id, format_result)\u001b[39m\n\u001b[32m    469\u001b[39m \u001b[38;5;66;03m# Run simulation\u001b[39;00m\n\u001b[32m    470\u001b[39m metadata_map = {\n\u001b[32m    471\u001b[39m     aer_circuit.circ_id: circuit.metadata\n\u001b[32m    472\u001b[39m     \u001b[38;5;28;01mfor\u001b[39;00m aer_circuit, circuit \u001b[38;5;129;01min\u001b[39;00m \u001b[38;5;28mzip\u001b[39m(aer_circuits, circuits)\n\u001b[32m    473\u001b[39m }\n\u001b[32m--> \u001b[39m\u001b[32m474\u001b[39m output = \u001b[38;5;28;43mself\u001b[39;49m\u001b[43m.\u001b[49m\u001b[43m_execute_circuits\u001b[49m\u001b[43m(\u001b[49m\u001b[43maer_circuits\u001b[49m\u001b[43m,\u001b[49m\u001b[43m \u001b[49m\u001b[43mnoise_model\u001b[49m\u001b[43m,\u001b[49m\u001b[43m \u001b[49m\u001b[43mconfig\u001b[49m\u001b[43m)\u001b[49m\n\u001b[32m    476\u001b[39m \u001b[38;5;66;03m# Validate output\u001b[39;00m\n\u001b[32m    477\u001b[39m \u001b[38;5;28;01mif\u001b[39;00m \u001b[38;5;129;01mnot\u001b[39;00m \u001b[38;5;28misinstance\u001b[39m(output, \u001b[38;5;28mdict\u001b[39m):\n",
      "\u001b[36mFile \u001b[39m\u001b[32md:\\miniconda3\\Lib\\site-packages\\qiskit_aer\\backends\\aer_simulator.py:906\u001b[39m, in \u001b[36mAerSimulator._execute_circuits\u001b[39m\u001b[34m(self, aer_circuits, noise_model, config)\u001b[39m\n\u001b[32m    904\u001b[39m \u001b[38;5;28;01mdef\u001b[39;00m\u001b[38;5;250m \u001b[39m\u001b[34m_execute_circuits\u001b[39m(\u001b[38;5;28mself\u001b[39m, aer_circuits, noise_model, config):\n\u001b[32m    905\u001b[39m \u001b[38;5;250m    \u001b[39m\u001b[33;03m\"\"\"Execute circuits on the backend.\"\"\"\u001b[39;00m\n\u001b[32m--> \u001b[39m\u001b[32m906\u001b[39m     ret = \u001b[43mcpp_execute_circuits\u001b[49m\u001b[43m(\u001b[49m\u001b[38;5;28;43mself\u001b[39;49m\u001b[43m.\u001b[49m\u001b[43m_controller\u001b[49m\u001b[43m,\u001b[49m\u001b[43m \u001b[49m\u001b[43maer_circuits\u001b[49m\u001b[43m,\u001b[49m\u001b[43m \u001b[49m\u001b[43mnoise_model\u001b[49m\u001b[43m,\u001b[49m\u001b[43m \u001b[49m\u001b[43mconfig\u001b[49m\u001b[43m)\u001b[49m\n\u001b[32m    907\u001b[39m     \u001b[38;5;28;01mreturn\u001b[39;00m ret\n",
      "\u001b[36mFile \u001b[39m\u001b[32md:\\miniconda3\\Lib\\site-packages\\qiskit_aer\\backends\\backend_utils.py:446\u001b[39m, in \u001b[36mcpp_execute_circuits\u001b[39m\u001b[34m(controller, aer_circuits, noise_model, config)\u001b[39m\n\u001b[32m    442\u001b[39m config.library_dir = LIBRARY_DIR\n\u001b[32m    444\u001b[39m noise_model = noise_model.to_dict(serializable=\u001b[38;5;28;01mTrue\u001b[39;00m) \u001b[38;5;28;01mif\u001b[39;00m noise_model \u001b[38;5;28;01melse\u001b[39;00m {}\n\u001b[32m--> \u001b[39m\u001b[32m446\u001b[39m \u001b[38;5;28;01mreturn\u001b[39;00m \u001b[43mcontroller\u001b[49m\u001b[43m.\u001b[49m\u001b[43mexecute\u001b[49m\u001b[43m(\u001b[49m\u001b[43maer_circuits\u001b[49m\u001b[43m,\u001b[49m\u001b[43m \u001b[49m\u001b[43mnoise_model\u001b[49m\u001b[43m,\u001b[49m\u001b[43m \u001b[49m\u001b[43mconfig\u001b[49m\u001b[43m)\u001b[49m\n",
      "\u001b[31mRuntimeError\u001b[39m: Simulation device \"GPU\" is not supported on this system"
     ]
    }
   ],
   "source": [
    "# 构建 Oracle 电路\n",
    "oracle_gate = simon_oracle(oracle_map)\n",
    "\n",
    "# 运行 Simon 算法若干次\n",
    "eqs = get_independent_equations(s, oracle_gate)\n"
   ]
  },
  {
   "cell_type": "code",
   "execution_count": null,
   "id": "ac0943af",
   "metadata": {},
   "outputs": [
    {
     "name": "stdout",
     "output_type": "stream",
     "text": [
      "收集到的测量结果（满足 y·s=0）：\n",
      "\n",
      "预测出的 s 是： None\n",
      "真实的   s 是： 1\n"
     ]
    }
   ],
   "source": [
    "# 输出得到的 y·s = 0 的方程组\n",
    "print(\"收集到的测量结果（满足 y·s=0）：\")\n",
    "for e in eqs:\n",
    "    print(e)\n",
    "\n",
    "# 解出隐藏字符串 s\n",
    "guessed_s = solve_linear_system(eqs)\n",
    "print(\"\\n预测出的 s 是：\", guessed_s)\n",
    "print(\"真实的   s 是：\", s)"
   ]
  }
 ],
 "metadata": {
  "kernelspec": {
   "display_name": "base",
   "language": "python",
   "name": "python3"
  },
  "language_info": {
   "codemirror_mode": {
    "name": "ipython",
    "version": 3
   },
   "file_extension": ".py",
   "mimetype": "text/x-python",
   "name": "python",
   "nbconvert_exporter": "python",
   "pygments_lexer": "ipython3",
   "version": "3.13.4"
  }
 },
 "nbformat": 4,
 "nbformat_minor": 5
}
