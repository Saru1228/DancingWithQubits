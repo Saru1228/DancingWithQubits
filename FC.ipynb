{
 "cells": [
  {
   "cell_type": "markdown",
   "id": "549e2957",
   "metadata": {},
   "source": [
    "Note:FOIL\n",
    "- F: first term\n",
    "- O: outer\n",
    "- I: inner\n",
    "- T: Last term\n",
    "- 00 = [[1,0,0,0]].T\n",
    "- 01 = [[0,1,0,0]].T\n",
    "- 10 = [[0,0,1,0]].T\n",
    "- 11 = [[0,0,0,1]].T"
   ]
  },
  {
   "cell_type": "code",
   "execution_count": 1,
   "id": "b1ee52fb",
   "metadata": {},
   "outputs": [],
   "source": [
    "import numpy as np\n",
    "import pylatexenc\n",
    "import math\n",
    "import scipy"
   ]
  },
  {
   "cell_type": "code",
   "execution_count": 2,
   "id": "79c9fbda",
   "metadata": {},
   "outputs": [],
   "source": [
    "CX_gate = np.array([[1, 0, 0, 0],\n",
    "                   [0, 1, 0, 0],\n",
    "                   [0, 0, 0, 1],\n",
    "                   [0, 0, 1, 0]])"
   ]
  },
  {
   "cell_type": "markdown",
   "id": "9875688e",
   "metadata": {},
   "source": [
    "CNOT $|00 \\rangle =$"
   ]
  },
  {
   "cell_type": "code",
   "execution_count": 14,
   "id": "bbac4932",
   "metadata": {},
   "outputs": [],
   "source": [
    "ket00 = np.array([[1,0,0,0]]).T"
   ]
  },
  {
   "cell_type": "code",
   "execution_count": 17,
   "id": "3706ebf9",
   "metadata": {},
   "outputs": [
    {
     "data": {
      "text/plain": [
       "array([[1],\n",
       "       [0],\n",
       "       [0],\n",
       "       [0]])"
      ]
     },
     "execution_count": 17,
     "metadata": {},
     "output_type": "execute_result"
    }
   ],
   "source": [
    "np.matmul(CX_gate,ket00)"
   ]
  }
 ],
 "metadata": {
  "kernelspec": {
   "display_name": "base",
   "language": "python",
   "name": "python3"
  },
  "language_info": {
   "codemirror_mode": {
    "name": "ipython",
    "version": 3
   },
   "file_extension": ".py",
   "mimetype": "text/x-python",
   "name": "python",
   "nbconvert_exporter": "python",
   "pygments_lexer": "ipython3",
   "version": "3.13.4"
  }
 },
 "nbformat": 4,
 "nbformat_minor": 5
}
