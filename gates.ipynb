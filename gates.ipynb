{
 "cells": [
  {
   "cell_type": "markdown",
   "id": "7b9a03b1",
   "metadata": {},
   "source": [
    "# Dancing with Qubit"
   ]
  },
  {
   "cell_type": "markdown",
   "id": "5b3e2243",
   "metadata": {},
   "source": [
    "## 8.3 Multi-qubit gates"
   ]
  },
  {
   "cell_type": "markdown",
   "id": "d4dd5477",
   "metadata": {},
   "source": [
    "### Content\n",
    "- The quantum $H^n$ gate\n",
    "- The quantum SWAP gate\n",
    "- The quantum CX gate\n",
    "- Controlling other 1-qubit gate\n",
    "- Quantum ZZ gate and $R_{phi}^ZZ$ gate\n",
    "- The quantum Toffoli CCNOT gate\n",
    "- The quantum Fredkin CSWAP gate"
   ]
  },
  {
   "cell_type": "code",
   "execution_count": 25,
   "id": "4723d134",
   "metadata": {},
   "outputs": [],
   "source": [
    "import numpy as np\n",
    "import pylatexenc\n",
    "import math\n",
    "import scipy"
   ]
  },
  {
   "cell_type": "markdown",
   "id": "df990536",
   "metadata": {},
   "source": [
    "### Hadamard gate and n-qubits Hadamard gate"
   ]
  },
  {
   "cell_type": "code",
   "execution_count": 3,
   "id": "8c834457",
   "metadata": {},
   "outputs": [],
   "source": [
    "H_gate = np.array([[1, 1], [1, -1]]) / math.sqrt(2)"
   ]
  },
  {
   "cell_type": "markdown",
   "id": "9f9b2f80",
   "metadata": {},
   "source": [
    "operating on $C^2$ Starting with the two qubit states\n",
    "\n",
    "| ${\\psi \\rangle}_1 = a_1 |0 \\rangle_1 + b_1 | 1 \\rangle_1 $ and | ${\\psi \\rangle}_2 = a_2 |0 \\rangle_2 + b_2 | 2 \\rangle_2 $\n",
    "\n",
    "applying H to each qubit means to compute\n",
    "\n",
    "$(H | \\psi \\rangle_1) \\times (H | \\psi \\rangle_1)$"
   ]
  },
  {
   "cell_type": "code",
   "execution_count": 4,
   "id": "a186fcfc",
   "metadata": {},
   "outputs": [],
   "source": [
    "def Hadamard_gate(n):\n",
    "    \"\"\"\n",
    "    Returns the n-qubit Hadamard gate as a numpy array.\n",
    "    \n",
    "    Parameters:\n",
    "    n (int): The number of qubits.\n",
    "    \n",
    "    Returns:\n",
    "    np.ndarray: The n-qubit Hadamard gate.\n",
    "    \"\"\"\n",
    "    if n < 1:\n",
    "        raise ValueError(\"n must be a positive integer.\")\n",
    "    \n",
    "    # Start with the single qubit Hadamard gate\n",
    "    gate = H_gate\n",
    "    \n",
    "    # Apply the Hadamard gate to each qubit\n",
    "    for _ in range(1, n):\n",
    "        gate = np.kron(gate, H_gate)\n",
    "    \n",
    "    return gate"
   ]
  },
  {
   "cell_type": "markdown",
   "id": "95d2ee75",
   "metadata": {},
   "source": [
    "Apply 3-qubits Hadamard gate"
   ]
  },
  {
   "cell_type": "code",
   "execution_count": 5,
   "id": "0e8721b2",
   "metadata": {},
   "outputs": [
    {
     "data": {
      "text/plain": [
       "array([[ 0.5,  0.5,  0.5,  0.5],\n",
       "       [ 0.5, -0.5,  0.5, -0.5],\n",
       "       [ 0.5,  0.5, -0.5, -0.5],\n",
       "       [ 0.5, -0.5, -0.5,  0.5]])"
      ]
     },
     "execution_count": 5,
     "metadata": {},
     "output_type": "execute_result"
    }
   ],
   "source": [
    "(Hadamard_gate(2))"
   ]
  },
  {
   "cell_type": "markdown",
   "id": "dfe3fe1a",
   "metadata": {},
   "source": [
    "## Swap gate"
   ]
  },
  {
   "cell_type": "code",
   "execution_count": 6,
   "id": "62341726",
   "metadata": {},
   "outputs": [],
   "source": [
    "Swap_gate = np.array([[1, 0, 0, 0],\n",
    "                     [0, 0, 1, 0],\n",
    "                     [0, 1, 0, 0],\n",
    "                     [0, 0, 0, 1]])"
   ]
  },
  {
   "cell_type": "markdown",
   "id": "81655327",
   "metadata": {},
   "source": [
    "## CX gate"
   ]
  },
  {
   "cell_type": "code",
   "execution_count": 7,
   "id": "96981d97",
   "metadata": {},
   "outputs": [],
   "source": [
    "CX_gate = np.array([[1, 0, 0, 0],\n",
    "                   [0, 1, 0, 0],\n",
    "                   [0, 0, 0, 1],\n",
    "                   [0, 0, 1, 0]])"
   ]
  },
  {
   "cell_type": "markdown",
   "id": "0ee08c4b",
   "metadata": {},
   "source": [
    "## Reserve_CNOT_gate"
   ]
  },
  {
   "cell_type": "code",
   "execution_count": 8,
   "id": "24447133",
   "metadata": {},
   "outputs": [],
   "source": [
    "Reserve_CNOT_with_H = Hadamard_gate(2) @ CX_gate @ Hadamard_gate(2)\n",
    "Reserve_CNOT_with_H[np.abs(Reserve_CNOT_with_H) < 1e-10] = 0"
   ]
  },
  {
   "cell_type": "code",
   "execution_count": 9,
   "id": "b0407ca0",
   "metadata": {},
   "outputs": [
    {
     "name": "stdout",
     "output_type": "stream",
     "text": [
      "[[1. 0. 0. 0.]\n",
      " [0. 0. 0. 1.]\n",
      " [0. 0. 1. 0.]\n",
      " [0. 1. 0. 0.]]\n"
     ]
    }
   ],
   "source": [
    "print(Reserve_CNOT_with_H)"
   ]
  },
  {
   "cell_type": "code",
   "execution_count": 10,
   "id": "e22d9530",
   "metadata": {},
   "outputs": [],
   "source": [
    "Reserve_CNOT_with_S = Swap_gate @ CX_gate @ Swap_gate\n",
    "Reserve_CNOT_with_S[np.abs(Reserve_CNOT_with_S) < 1e-10] = 0"
   ]
  },
  {
   "cell_type": "code",
   "execution_count": 11,
   "id": "eb64da34",
   "metadata": {},
   "outputs": [
    {
     "name": "stdout",
     "output_type": "stream",
     "text": [
      "[[1 0 0 0]\n",
      " [0 0 0 1]\n",
      " [0 0 1 0]\n",
      " [0 1 0 0]]\n"
     ]
    }
   ],
   "source": [
    "print(Reserve_CNOT_with_S)"
   ]
  },
  {
   "cell_type": "markdown",
   "id": "3caf35e7",
   "metadata": {},
   "source": [
    "## Controlling other 1-qubit gates"
   ]
  },
  {
   "cell_type": "code",
   "execution_count": 12,
   "id": "7f28b4cc",
   "metadata": {},
   "outputs": [],
   "source": [
    "Y_gate = np.array([[0, -1j],\n",
    "                  [1j, 0]])\n",
    "Z_gate = np.array([[1, 0],\n",
    "                  [0, -1]])\n",
    "X_gate = np.array([[0, 1],\n",
    "                  [1, 0]])\n",
    "I_gate = np.array([[1, 0],\n",
    "                   [0, 1]])\n",
    "zero_gate = np.array([[0,0],\n",
    "                     [0,0]])"
   ]
  },
  {
   "cell_type": "code",
   "execution_count": 13,
   "id": "b54a8062",
   "metadata": {},
   "outputs": [],
   "source": [
    "CY_gate = np.array([I_gate,zero_gate,zero_gate,Y_gate,])"
   ]
  },
  {
   "cell_type": "markdown",
   "id": "5d24050e",
   "metadata": {},
   "source": [
    "## The quantum ZZ and $R_{\\psi}^{zz}$ gates"
   ]
  },
  {
   "cell_type": "code",
   "execution_count": 14,
   "id": "74f896e3",
   "metadata": {},
   "outputs": [],
   "source": [
    "ZZ = np.kron(Z_gate,Z_gate)"
   ]
  },
  {
   "cell_type": "code",
   "execution_count": 15,
   "id": "12d01333",
   "metadata": {},
   "outputs": [
    {
     "name": "stdout",
     "output_type": "stream",
     "text": [
      "[[ 1  0  0  0]\n",
      " [ 0 -1  0  0]\n",
      " [ 0  0 -1  0]\n",
      " [ 0  0  0  1]]\n"
     ]
    }
   ],
   "source": [
    "print(ZZ)"
   ]
  },
  {
   "cell_type": "code",
   "execution_count": 28,
   "id": "c6c88302",
   "metadata": {},
   "outputs": [],
   "source": [
    "def Rzz_gate(theta):\n",
    "    \"\"\"\n",
    "    Returns the Rzz gate for a given angle theta.\n",
    "    \n",
    "    Parameters:\n",
    "    theta (float): The angle in radians.\n",
    "    \n",
    "    Returns:\n",
    "    np.ndarray: The Rzz gate as a numpy array.\n",
    "    \"\"\"\n",
    "    return scipy.linalg.expm(-1j * theta / 2 * ZZ)\n"
   ]
  },
  {
   "cell_type": "code",
   "execution_count": 29,
   "id": "1701ccea",
   "metadata": {},
   "outputs": [
    {
     "data": {
      "text/plain": [
       "array([[1.+0.j, 0.+0.j, 0.+0.j, 0.+0.j],\n",
       "       [0.+0.j, 1.+0.j, 0.+0.j, 0.+0.j],\n",
       "       [0.+0.j, 0.+0.j, 1.+0.j, 0.+0.j],\n",
       "       [0.+0.j, 0.+0.j, 0.+0.j, 1.+0.j]])"
      ]
     },
     "execution_count": 29,
     "metadata": {},
     "output_type": "execute_result"
    }
   ],
   "source": [
    "Rzz_gate(0)"
   ]
  },
  {
   "cell_type": "code",
   "execution_count": 37,
   "id": "379ac8fc",
   "metadata": {},
   "outputs": [
    {
     "data": {
      "text/plain": [
       "array([[0.-1.j, 0.+0.j, 0.+0.j, 0.+0.j],\n",
       "       [0.+0.j, 0.+1.j, 0.+0.j, 0.+0.j],\n",
       "       [0.+0.j, 0.+0.j, 0.+1.j, 0.+0.j],\n",
       "       [0.+0.j, 0.+0.j, 0.+0.j, 0.-1.j]])"
      ]
     },
     "execution_count": 37,
     "metadata": {},
     "output_type": "execute_result"
    }
   ],
   "source": [
    "np.round(Rzz_gate(math.pi),2)"
   ]
  },
  {
   "cell_type": "code",
   "execution_count": 38,
   "id": "591b5995",
   "metadata": {},
   "outputs": [
    {
     "data": {
      "text/plain": [
       "array([[-1.-0.j,  0.+0.j,  0.+0.j,  0.+0.j],\n",
       "       [ 0.+0.j, -1.+0.j,  0.+0.j,  0.+0.j],\n",
       "       [ 0.+0.j,  0.+0.j, -1.+0.j,  0.+0.j],\n",
       "       [ 0.+0.j,  0.+0.j,  0.+0.j, -1.-0.j]])"
      ]
     },
     "execution_count": 38,
     "metadata": {},
     "output_type": "execute_result"
    }
   ],
   "source": [
    "np.round(Rzz_gate(2*math.pi),2)"
   ]
  },
  {
   "cell_type": "markdown",
   "id": "de35ff4e",
   "metadata": {},
   "source": [
    "## The quantum Toffoli CCNOT gate"
   ]
  },
  {
   "cell_type": "code",
   "execution_count": null,
   "id": "414830d6",
   "metadata": {},
   "outputs": [],
   "source": [
    "CCNOT = np.array([[1, 0, 0, 0, 0, 0, 0, 0],\n",
    "                  [0, 1, 0, 0, 0, 0, 0, 0],\n",
    "                  [0, 0, 1, 0, 0, 0, 0, 0],\n",
    "                  [0, 0, 0, 1, 0, 0, 0, 0],\n",
    "                  [0, 0, 0, 0, 1, 0, 0, 0],\n",
    "                  [0, 0, 0, 0, 0, 1, 0, 0],\n",
    "                  [0, 0, 0, 0, 0, 0, 0, 1],\n",
    "                  [0, 0, 0, 0, 0, 0, 1, 0]])\n"
   ]
  },
  {
   "cell_type": "markdown",
   "id": "5b1e9a6e",
   "metadata": {},
   "source": [
    "## The quantum Fredkin CSWAP gate"
   ]
  },
  {
   "cell_type": "code",
   "execution_count": null,
   "id": "4e841c20",
   "metadata": {},
   "outputs": [],
   "source": [
    "CSWAP = np.array([[1, 0, 0, 0, 0, 0, 0, 0],\n",
    "                  [0, 1, 0, 0, 0, 0, 0, 0],\n",
    "                  [0, 0, 1, 0, 0, 0, 0, 0],\n",
    "                  [0, 0, 0, 1, 0, 0, 0, 0],\n",
    "                  [0, 0, 0, 0, 1, 0, 0, 0],\n",
    "                  [0, 0, 0, 0, 0, 0, 1, 0],\n",
    "                  [0, 0, 0, 0, 0, 1, 0, 0],\n",
    "                  [0, 0, 0, 0, 0, 0, 0, 1]])"
   ]
  }
 ],
 "metadata": {
  "kernelspec": {
   "display_name": "base",
   "language": "python",
   "name": "python3"
  },
  "language_info": {
   "codemirror_mode": {
    "name": "ipython",
    "version": 3
   },
   "file_extension": ".py",
   "mimetype": "text/x-python",
   "name": "python",
   "nbconvert_exporter": "python",
   "pygments_lexer": "ipython3",
   "version": "3.13.4"
  }
 },
 "nbformat": 4,
 "nbformat_minor": 5
}
