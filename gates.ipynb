{
 "cells": [
  {
   "cell_type": "markdown",
   "id": "7b9a03b1",
   "metadata": {},
   "source": [
    "# Dancing with Qubit"
   ]
  },
  {
   "cell_type": "markdown",
   "id": "5b3e2243",
   "metadata": {},
   "source": [
    "## Multi-qubit gates"
   ]
  },
  {
   "cell_type": "code",
   "execution_count": null,
   "id": "4723d134",
   "metadata": {},
   "outputs": [],
   "source": [
    "import numpy as np\n",
    "import pylatexenc\n",
    "import math"
   ]
  },
  {
   "cell_type": "markdown",
   "id": "df990536",
   "metadata": {},
   "source": [
    "### Hadamard gate and n-qubits Hadamard gate"
   ]
  },
  {
   "cell_type": "code",
   "execution_count": 27,
   "id": "8c834457",
   "metadata": {},
   "outputs": [],
   "source": [
    "H_gate = np.array([[1, 1], [1, -1]]) / math.sqrt(2)"
   ]
  },
  {
   "cell_type": "code",
   "execution_count": 28,
   "id": "a186fcfc",
   "metadata": {},
   "outputs": [],
   "source": [
    "def Hadamard_gate(n):\n",
    "    \"\"\"\n",
    "    Returns the n-qubit Hadamard gate as a numpy array.\n",
    "    \n",
    "    Parameters:\n",
    "    n (int): The number of qubits.\n",
    "    \n",
    "    Returns:\n",
    "    np.ndarray: The n-qubit Hadamard gate.\n",
    "    \"\"\"\n",
    "    if n < 1:\n",
    "        raise ValueError(\"n must be a positive integer.\")\n",
    "    \n",
    "    # Start with the single qubit Hadamard gate\n",
    "    gate = H_gate\n",
    "    \n",
    "    # Apply the Hadamard gate to each qubit\n",
    "    for _ in range(1, n):\n",
    "        gate = np.kron(gate, H_gate)\n",
    "    \n",
    "    return gate"
   ]
  },
  {
   "cell_type": "markdown",
   "id": "95d2ee75",
   "metadata": {},
   "source": [
    "Apply 3-qubits Hadamard gate"
   ]
  },
  {
   "cell_type": "code",
   "execution_count": 54,
   "id": "0e8721b2",
   "metadata": {},
   "outputs": [
    {
     "data": {
      "text/plain": [
       "array([[ 0.5,  0.5,  0.5,  0.5],\n",
       "       [ 0.5, -0.5,  0.5, -0.5],\n",
       "       [ 0.5,  0.5, -0.5, -0.5],\n",
       "       [ 0.5, -0.5, -0.5,  0.5]])"
      ]
     },
     "execution_count": 54,
     "metadata": {},
     "output_type": "execute_result"
    }
   ],
   "source": [
    "(Hadamard_gate(2))"
   ]
  },
  {
   "cell_type": "markdown",
   "id": "dfe3fe1a",
   "metadata": {},
   "source": [
    "## Swap gate"
   ]
  },
  {
   "cell_type": "code",
   "execution_count": 30,
   "id": "62341726",
   "metadata": {},
   "outputs": [],
   "source": [
    "Swap_gate = np.array([[1, 0, 0, 0],\n",
    "                     [0, 0, 1, 0],\n",
    "                     [0, 1, 0, 0],\n",
    "                     [0, 0, 0, 1]])"
   ]
  },
  {
   "cell_type": "markdown",
   "id": "81655327",
   "metadata": {},
   "source": [
    "## CX gate"
   ]
  },
  {
   "cell_type": "code",
   "execution_count": 31,
   "id": "96981d97",
   "metadata": {},
   "outputs": [],
   "source": [
    "CX_gate = np.array([[1, 0, 0, 0],\n",
    "                   [0, 1, 0, 0],\n",
    "                   [0, 0, 0, 1],\n",
    "                   [0, 0, 1, 0]])"
   ]
  },
  {
   "cell_type": "markdown",
   "id": "0ee08c4b",
   "metadata": {},
   "source": [
    "## Reserve_CNOT_gate"
   ]
  },
  {
   "cell_type": "code",
   "execution_count": 61,
   "id": "24447133",
   "metadata": {},
   "outputs": [],
   "source": [
    "Reserve_CNOT_with_H = Hadamard_gate(2) @ CX_gate @ Hadamard_gate(2)\n",
    "Reserve_CNOT_with_H[np.abs(Reserve_CNOT_with_H) < 1e-10] = 0"
   ]
  },
  {
   "cell_type": "code",
   "execution_count": 62,
   "id": "b0407ca0",
   "metadata": {},
   "outputs": [
    {
     "name": "stdout",
     "output_type": "stream",
     "text": [
      "[[1. 0. 0. 0.]\n",
      " [0. 0. 0. 1.]\n",
      " [0. 0. 1. 0.]\n",
      " [0. 1. 0. 0.]]\n"
     ]
    }
   ],
   "source": [
    "print(Reserve_CNOT_with_H)"
   ]
  },
  {
   "cell_type": "code",
   "execution_count": 63,
   "id": "e22d9530",
   "metadata": {},
   "outputs": [],
   "source": [
    "Reserve_CNOT_with_S = Swap_gate @ CX_gate @ Swap_gate\n",
    "Reserve_CNOT_with_S[np.abs(Reserve_CNOT_with_S) < 1e-10] = 0"
   ]
  },
  {
   "cell_type": "code",
   "execution_count": 64,
   "id": "eb64da34",
   "metadata": {},
   "outputs": [
    {
     "name": "stdout",
     "output_type": "stream",
     "text": [
      "[[1 0 0 0]\n",
      " [0 0 0 1]\n",
      " [0 0 1 0]\n",
      " [0 1 0 0]]\n"
     ]
    }
   ],
   "source": [
    "print(Reserve_CNOT_with_S)"
   ]
  },
  {
   "cell_type": "markdown",
   "id": "3caf35e7",
   "metadata": {},
   "source": [
    "## Controlling other 1-qubit gates"
   ]
  },
  {
   "cell_type": "code",
   "execution_count": 71,
   "id": "7f28b4cc",
   "metadata": {},
   "outputs": [],
   "source": [
    "Y_gate = np.array([[0, -1j],\n",
    "                  [1j, 0]])\n",
    "Z_gate = np.array([[1, 0],\n",
    "                  [0, -1]])\n",
    "X_gate = np.array([[0, 1],\n",
    "                  [1, 0]])\n",
    "I_gate = np.array([[1, 0],\n",
    "                   [0, 1]])\n",
    "zero_gate = np.array([[0,0],\n",
    "                     [0,0]])"
   ]
  },
  {
   "cell_type": "code",
   "execution_count": 72,
   "id": "b54a8062",
   "metadata": {},
   "outputs": [],
   "source": [
    "CY_gate = np.array([I_gate,zero_gate,zero_gate,Y_gate,])"
   ]
  },
  {
   "cell_type": "markdown",
   "id": "5d24050e",
   "metadata": {},
   "source": [
    "## The quantum ZZ and $R_{\\psi}^{zz}$ gates"
   ]
  },
  {
   "cell_type": "code",
   "execution_count": 79,
   "id": "74f896e3",
   "metadata": {},
   "outputs": [],
   "source": [
    "ZZ = Z_gate @ Z_gate"
   ]
  },
  {
   "cell_type": "code",
   "execution_count": 80,
   "id": "12d01333",
   "metadata": {},
   "outputs": [
    {
     "name": "stdout",
     "output_type": "stream",
     "text": [
      "[[1 0]\n",
      " [0 1]]\n"
     ]
    }
   ],
   "source": [
    "print(ZZ)"
   ]
  },
  {
   "cell_type": "code",
   "execution_count": 91,
   "id": "c6c88302",
   "metadata": {},
   "outputs": [],
   "source": [
    "def Rzz_gate(theta):\n",
    "    \"\"\"\n",
    "    Returns the Rzz gate for a given angle theta.\n",
    "    \n",
    "    Parameters:\n",
    "    theta (float): The angle in radians.\n",
    "    \n",
    "    Returns:\n",
    "    np.ndarray: The Rzz gate as a numpy array.\n",
    "    \"\"\"\n",
    "    num = np.cos(theta / 2) * I_gate - 1j * np.sin(theta / 2) * ZZ\n",
    "    num[np.abs(num) < 1e-10] = 0\n",
    "    return num\n"
   ]
  },
  {
   "cell_type": "code",
   "execution_count": 92,
   "id": "1701ccea",
   "metadata": {},
   "outputs": [
    {
     "data": {
      "text/plain": [
       "array([[1.+0.j, 0.+0.j],\n",
       "       [0.+0.j, 1.+0.j]])"
      ]
     },
     "execution_count": 92,
     "metadata": {},
     "output_type": "execute_result"
    }
   ],
   "source": [
    "Rzz_gate(0)"
   ]
  },
  {
   "cell_type": "code",
   "execution_count": 94,
   "id": "379ac8fc",
   "metadata": {},
   "outputs": [
    {
     "data": {
      "text/plain": [
       "array([[6.123234e-17-1.j, 0.000000e+00+0.j],\n",
       "       [0.000000e+00+0.j, 6.123234e-17-1.j]])"
      ]
     },
     "execution_count": 94,
     "metadata": {},
     "output_type": "execute_result"
    }
   ],
   "source": [
    "Rzz_gate(math.pi)"
   ]
  },
  {
   "cell_type": "code",
   "execution_count": 95,
   "id": "591b5995",
   "metadata": {},
   "outputs": [
    {
     "data": {
      "text/plain": [
       "array([[-1.-1.2246468e-16j,  0.+0.0000000e+00j],\n",
       "       [ 0.+0.0000000e+00j, -1.-1.2246468e-16j]])"
      ]
     },
     "execution_count": 95,
     "metadata": {},
     "output_type": "execute_result"
    }
   ],
   "source": [
    "Rzz_gate(2*math.pi)"
   ]
  },
  {
   "cell_type": "markdown",
   "id": "de35ff4e",
   "metadata": {},
   "source": [
    "## The quantum Toffoli CCNOT gate"
   ]
  },
  {
   "cell_type": "code",
   "execution_count": 97,
   "id": "414830d6",
   "metadata": {},
   "outputs": [],
   "source": [
    "CCNOT = np.array([[1, 0, 0, 0, 0, 0, 0, 0],\n",
    "                  [0, 1, 0, 0, 0, 0, 0, 0],\n",
    "                  [0, 0, 1, 0, 0, 0, 0, 0],\n",
    "                  [0, 0, 0, 1, 0, 0, 0, 0],\n",
    "                  [0, 0, 0, 0, 1, 0, 0, 0],\n",
    "                  [0, 0, 0, 0, 0, 1, 0, 0],\n",
    "                  [0, 0, 0, 0, 0, 0, 0, 1],\n",
    "                  [0, 0, 0, 0, 0, 0, 1, 0]])\n"
   ]
  },
  {
   "cell_type": "markdown",
   "id": "5b1e9a6e",
   "metadata": {},
   "source": [
    "## The quantum Fredkin CSWAP gate"
   ]
  },
  {
   "cell_type": "code",
   "execution_count": 98,
   "id": "4e841c20",
   "metadata": {},
   "outputs": [],
   "source": [
    "CSWAP = np.array([[1, 0, 0, 0, 0, 0, 0, 0],\n",
    "                  [0, 1, 0, 0, 0, 0, 0, 0],\n",
    "                  [0, 0, 1, 0, 0, 0, 0, 0],\n",
    "                  [0, 0, 0, 1, 0, 0, 0, 0],\n",
    "                  [0, 0, 0, 0, 1, 0, 0, 0],\n",
    "                  [0, 0, 0, 0, 0, 0, 1, 0],\n",
    "                  [0, 0, 0, 0, 0, 1, 0, 0],\n",
    "                  [0, 0, 0, 0, 0, 0, 0, 1]])"
   ]
  }
 ],
 "metadata": {
  "kernelspec": {
   "display_name": "base",
   "language": "python",
   "name": "python3"
  },
  "language_info": {
   "codemirror_mode": {
    "name": "ipython",
    "version": 3
   },
   "file_extension": ".py",
   "mimetype": "text/x-python",
   "name": "python",
   "nbconvert_exporter": "python",
   "pygments_lexer": "ipython3",
   "version": "3.13.4"
  }
 },
 "nbformat": 4,
 "nbformat_minor": 5
}
