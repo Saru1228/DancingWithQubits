{
 "cells": [
  {
   "cell_type": "markdown",
   "id": "7b9a03b1",
   "metadata": {},
   "source": [
    "# Dancing with Qubit"
   ]
  },
  {
   "cell_type": "markdown",
   "id": "5b3e2243",
   "metadata": {},
   "source": [
    "## Gates"
   ]
  },
  {
   "cell_type": "code",
   "execution_count": 1,
   "id": "4723d134",
   "metadata": {},
   "outputs": [],
   "source": [
    "import numpy as np\n",
    "import math"
   ]
  }
 ],
 "metadata": {
  "kernelspec": {
   "display_name": "base",
   "language": "python",
   "name": "python3"
  },
  "language_info": {
   "codemirror_mode": {
    "name": "ipython",
    "version": 3
   },
   "file_extension": ".py",
   "mimetype": "text/x-python",
   "name": "python",
   "nbconvert_exporter": "python",
   "pygments_lexer": "ipython3",
   "version": "3.13.4"
  }
 },
 "nbformat": 4,
 "nbformat_minor": 5
}
