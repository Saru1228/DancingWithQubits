{
 "cells": [
  {
   "cell_type": "markdown",
   "id": "7b9a03b1",
   "metadata": {},
   "source": [
    "# Dancing with Qubit"
   ]
  },
  {
   "cell_type": "markdown",
   "id": "5b3e2243",
   "metadata": {},
   "source": [
    "## Multi-qubit gates"
   ]
  },
  {
   "cell_type": "code",
   "execution_count": 15,
   "id": "4723d134",
   "metadata": {},
   "outputs": [],
   "source": [
    "import numpy as np\n",
    "import math"
   ]
  },
  {
   "cell_type": "markdown",
   "id": "df990536",
   "metadata": {},
   "source": [
    "### Hadamard gate and n-qubits Hadamard gate"
   ]
  },
  {
   "cell_type": "code",
   "execution_count": 20,
   "id": "8c834457",
   "metadata": {},
   "outputs": [],
   "source": [
    "H_gate = np.array([[1, 1], [1, -1]]) / math.sqrt(2)"
   ]
  },
  {
   "cell_type": "code",
   "execution_count": 21,
   "id": "a186fcfc",
   "metadata": {},
   "outputs": [],
   "source": [
    "def Hadamard_gate(n):\n",
    "    \"\"\"\n",
    "    Returns the n-qubit Hadamard gate as a numpy array.\n",
    "    \n",
    "    Parameters:\n",
    "    n (int): The number of qubits.\n",
    "    \n",
    "    Returns:\n",
    "    np.ndarray: The n-qubit Hadamard gate.\n",
    "    \"\"\"\n",
    "    if n < 1:\n",
    "        raise ValueError(\"n must be a positive integer.\")\n",
    "    \n",
    "    # Start with the single qubit Hadamard gate\n",
    "    gate = H_gate\n",
    "    \n",
    "    # Apply the Hadamard gate to each qubit\n",
    "    for _ in range(1, n):\n",
    "        gate = np.kron(gate, H_gate)\n",
    "    \n",
    "    return gate"
   ]
  },
  {
   "cell_type": "markdown",
   "id": "95d2ee75",
   "metadata": {},
   "source": [
    "Apply 3-qubits Hadamard gate"
   ]
  },
  {
   "cell_type": "code",
   "execution_count": 22,
   "id": "0e8721b2",
   "metadata": {},
   "outputs": [
    {
     "data": {
      "text/plain": [
       "array([[ 0.35355339,  0.35355339,  0.35355339,  0.35355339,  0.35355339,\n",
       "         0.35355339,  0.35355339,  0.35355339],\n",
       "       [ 0.35355339, -0.35355339,  0.35355339, -0.35355339,  0.35355339,\n",
       "        -0.35355339,  0.35355339, -0.35355339],\n",
       "       [ 0.35355339,  0.35355339, -0.35355339, -0.35355339,  0.35355339,\n",
       "         0.35355339, -0.35355339, -0.35355339],\n",
       "       [ 0.35355339, -0.35355339, -0.35355339,  0.35355339,  0.35355339,\n",
       "        -0.35355339, -0.35355339,  0.35355339],\n",
       "       [ 0.35355339,  0.35355339,  0.35355339,  0.35355339, -0.35355339,\n",
       "        -0.35355339, -0.35355339, -0.35355339],\n",
       "       [ 0.35355339, -0.35355339,  0.35355339, -0.35355339, -0.35355339,\n",
       "         0.35355339, -0.35355339,  0.35355339],\n",
       "       [ 0.35355339,  0.35355339, -0.35355339, -0.35355339, -0.35355339,\n",
       "        -0.35355339,  0.35355339,  0.35355339],\n",
       "       [ 0.35355339, -0.35355339, -0.35355339,  0.35355339, -0.35355339,\n",
       "         0.35355339,  0.35355339, -0.35355339]])"
      ]
     },
     "execution_count": 22,
     "metadata": {},
     "output_type": "execute_result"
    }
   ],
   "source": [
    "(Hadamard_gate(3))"
   ]
  }
 ],
 "metadata": {
  "kernelspec": {
   "display_name": "base",
   "language": "python",
   "name": "python3"
  },
  "language_info": {
   "codemirror_mode": {
    "name": "ipython",
    "version": 3
   },
   "file_extension": ".py",
   "mimetype": "text/x-python",
   "name": "python",
   "nbconvert_exporter": "python",
   "pygments_lexer": "ipython3",
   "version": "3.13.4"
  }
 },
 "nbformat": 4,
 "nbformat_minor": 5
}
