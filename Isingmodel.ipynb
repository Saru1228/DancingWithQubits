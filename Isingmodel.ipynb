{
 "cells": [
  {
   "cell_type": "markdown",
   "id": "2523054f",
   "metadata": {},
   "source": [
    "# Ising Model"
   ]
  },
  {
   "cell_type": "markdown",
   "id": "688c4811",
   "metadata": {},
   "source": [
    "## construct a 3-qubit state"
   ]
  },
  {
   "cell_type": "code",
   "execution_count": 1,
   "id": "0475a186",
   "metadata": {},
   "outputs": [
    {
     "name": "stdout",
     "output_type": "stream",
     "text": [
      "zero\tis Statevector([1.+0.j, 0.+0.j],\n",
      "            dims=(2,))\n",
      "psi is Statevector([0.+0.j, 0.+0.j, 0.+0.j, 0.+0.j, 1.+0.j, 0.+0.j, 0.+0.j,\n",
      "             0.+0.j],\n",
      "            dims=(2, 2, 2))\n"
     ]
    },
    {
     "data": {
      "text/latex": [
       "$$\\frac{\\sqrt{2}}{2} |000\\rangle+\\frac{\\sqrt{2}}{2} |111\\rangle$$"
      ],
      "text/plain": [
       "<IPython.core.display.Latex object>"
      ]
     },
     "execution_count": 1,
     "metadata": {},
     "output_type": "execute_result"
    }
   ],
   "source": [
    "from qiskit.quantum_info import Statevector\n",
    "import numpy as np\n",
    "import pylatexenc\n",
    "\n",
    "zero = Statevector([1,0])\n",
    "print(\"zero\tis\", zero)\n",
    "one = Statevector([0,1])\n",
    "\n",
    "psi = one.tensor(zero.tensor(zero))\n",
    "print('psi is', psi)\n",
    "\n",
    "psi = one^zero^zero\n",
    "psi.draw(\"latex\")\n",
    "\n",
    "psi = 1/np.sqrt(2) * (zero^zero^zero) + 1/np.sqrt(2) * (one^one^one)\n",
    "psi.draw(\"latex\")"
   ]
  },
  {
   "cell_type": "markdown",
   "id": "ef9d1504",
   "metadata": {},
   "source": [
    "## Construct a Pauli state"
   ]
  },
  {
   "cell_type": "code",
   "execution_count": 2,
   "id": "ba2c0f83",
   "metadata": {},
   "outputs": [],
   "source": [
    "from qiskit.quantum_info import Pauli"
   ]
  },
  {
   "cell_type": "code",
   "execution_count": 3,
   "id": "80a3b330",
   "metadata": {},
   "outputs": [
    {
     "name": "stdout",
     "output_type": "stream",
     "text": [
      "z0z1 is ZZI\n",
      "and its matrix is\n",
      "[[ 1.+0.j  0.+0.j  0.+0.j  0.+0.j  0.+0.j  0.+0.j  0.+0.j  0.+0.j]\n",
      " [ 0.+0.j  1.+0.j  0.+0.j  0.+0.j  0.+0.j  0.+0.j  0.+0.j  0.+0.j]\n",
      " [ 0.+0.j  0.+0.j -1.+0.j  0.+0.j  0.+0.j  0.+0.j  0.+0.j  0.+0.j]\n",
      " [ 0.+0.j  0.+0.j  0.+0.j -1.+0.j  0.+0.j  0.+0.j  0.+0.j  0.+0.j]\n",
      " [ 0.+0.j  0.+0.j  0.+0.j  0.+0.j -1.+0.j  0.+0.j  0.+0.j  0.+0.j]\n",
      " [ 0.+0.j  0.+0.j  0.+0.j  0.+0.j  0.+0.j -1.+0.j  0.+0.j  0.+0.j]\n",
      " [ 0.+0.j  0.+0.j  0.+0.j  0.+0.j  0.+0.j  0.+0.j  1.+0.j  0.+0.j]\n",
      " [ 0.+0.j  0.+0.j  0.+0.j  0.+0.j  0.+0.j  0.+0.j  0.+0.j  1.+0.j]]\n"
     ]
    }
   ],
   "source": [
    "z0z1 = Pauli(\"ZZI\")\n",
    "print(\"z0z1 is\", z0z1)\n",
    "print('and its matrix is')\n",
    "print(z0z1.to_matrix())"
   ]
  },
  {
   "cell_type": "code",
   "execution_count": 4,
   "id": "a183a8b4",
   "metadata": {},
   "outputs": [
    {
     "name": "stdout",
     "output_type": "stream",
     "text": [
      "The sparse representation of z0z1 is\n",
      "<Compressed Sparse Row sparse matrix of dtype 'complex128'\n",
      "\twith 8 stored elements and shape (8, 8)>\n",
      "  Coords\tValues\n",
      "  (0, 0)\t(1+0j)\n",
      "  (1, 1)\t(1+0j)\n",
      "  (2, 2)\t(-1+0j)\n",
      "  (3, 3)\t(-1+0j)\n",
      "  (4, 4)\t(-1+0j)\n",
      "  (5, 5)\t(-1+0j)\n",
      "  (6, 6)\t(1+0j)\n",
      "  (7, 7)\t(1+0j)\n"
     ]
    }
   ],
   "source": [
    "print('The sparse representation of z0z1 is')\n",
    "print(z0z1.to_matrix(sparse=True))"
   ]
  },
  {
   "cell_type": "markdown",
   "id": "ce86c69e",
   "metadata": {},
   "source": [
    "## Operate a Pauli state like Z or I"
   ]
  },
  {
   "cell_type": "code",
   "execution_count": 5,
   "id": "347a7ef9",
   "metadata": {},
   "outputs": [],
   "source": [
    "from qiskit.quantum_info import SparsePauliOp as PauliOp"
   ]
  },
  {
   "cell_type": "code",
   "execution_count": 6,
   "id": "7e3260e2",
   "metadata": {},
   "outputs": [
    {
     "name": "stdout",
     "output_type": "stream",
     "text": [
      "H_cut is\n",
      "SparsePauliOp(['ZZI', 'ZIZ'],\n",
      "              coeffs=[1.+0.j, 1.+0.j])\n",
      "The sparse representation of H_cut is\n",
      "<Compressed Sparse Row sparse matrix of dtype 'complex128'\n",
      "\twith 8 stored elements and shape (8, 8)>\n",
      "  Coords\tValues\n",
      "  (0, 0)\t(2+0j)\n",
      "  (1, 1)\t0j\n",
      "  (2, 2)\t0j\n",
      "  (3, 3)\t(-2+0j)\n",
      "  (4, 4)\t(-2+0j)\n",
      "  (5, 5)\t0j\n",
      "  (6, 6)\t0j\n",
      "  (7, 7)\t(2+0j)\n"
     ]
    }
   ],
   "source": [
    "H_cut = PauliOp(Pauli(\"ZZI\")) + PauliOp(Pauli(\"ZIZ\"))\n",
    "print('H_cut is')\n",
    "print(H_cut)\n",
    "print('The sparse representation of H_cut is')\n",
    "print(H_cut.to_matrix(sparse=True))"
   ]
  },
  {
   "cell_type": "markdown",
   "id": "0411f509",
   "metadata": {},
   "source": [
    "## Construct a linear combination of Hamiltonian"
   ]
  },
  {
   "cell_type": "code",
   "execution_count": null,
   "id": "6cf54ca9",
   "metadata": {},
   "outputs": [
    {
     "name": "stdout",
     "output_type": "stream",
     "text": [
      "(-2+0j)\n"
     ]
    }
   ],
   "source": [
    "H_Ising = (\n",
    "    -0.5*PauliOp('ZZI') + \n",
    "    2*PauliOp('ZIZ') - \n",
    "    PauliOp('IZZ') + \n",
    "    PauliOp('IZI') - \n",
    "    5*PauliOp('IIZ')\n",
    ")\n",
    "\n",
    "psi = one^zero^zero\n",
    "E = psi.expectation_value(H_cut)\n",
    "print(E)"
   ]
  }
 ],
 "metadata": {
  "kernelspec": {
   "display_name": "base",
   "language": "python",
   "name": "python3"
  },
  "language_info": {
   "codemirror_mode": {
    "name": "ipython",
    "version": 3
   },
   "file_extension": ".py",
   "mimetype": "text/x-python",
   "name": "python",
   "nbconvert_exporter": "python",
   "pygments_lexer": "ipython3",
   "version": "3.13.4"
  }
 },
 "nbformat": 4,
 "nbformat_minor": 5
}
