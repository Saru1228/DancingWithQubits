{
 "cells": [
  {
   "cell_type": "markdown",
   "id": "2523054f",
   "metadata": {},
   "source": [
    "# Ising Model"
   ]
  },
  {
   "cell_type": "markdown",
   "id": "688c4811",
   "metadata": {},
   "source": [
    "## construct a 3-qubit state"
   ]
  },
  {
   "cell_type": "code",
   "execution_count": 1,
   "id": "0475a186",
   "metadata": {},
   "outputs": [
    {
     "name": "stdout",
     "output_type": "stream",
     "text": [
      "zero\tis Statevector([1.+0.j, 0.+0.j],\n",
      "            dims=(2,))\n",
      "psi is Statevector([0.+0.j, 0.+0.j, 0.+0.j, 0.+0.j, 1.+0.j, 0.+0.j, 0.+0.j,\n",
      "             0.+0.j],\n",
      "            dims=(2, 2, 2))\n"
     ]
    },
    {
     "data": {
      "text/latex": [
       "$$\\frac{\\sqrt{2}}{2} |000\\rangle+\\frac{\\sqrt{2}}{2} |111\\rangle$$"
      ],
      "text/plain": [
       "<IPython.core.display.Latex object>"
      ]
     },
     "execution_count": 1,
     "metadata": {},
     "output_type": "execute_result"
    }
   ],
   "source": [
    "from qiskit.quantum_info import Statevector\n",
    "import numpy as np\n",
    "import pylatexenc\n",
    "\n",
    "zero = Statevector([1,0])\n",
    "print(\"zero\tis\", zero)\n",
    "one = Statevector([0,1])\n",
    "\n",
    "psi = one.tensor(zero.tensor(zero))\n",
    "print('psi is', psi)\n",
    "\n",
    "psi = one^zero^zero\n",
    "psi.draw(\"latex\")\n",
    "\n",
    "psi = 1/np.sqrt(2) * (zero^zero^zero) + 1/np.sqrt(2) * (one^one^one)\n",
    "psi.draw(\"latex\")"
   ]
  },
  {
   "cell_type": "markdown",
   "id": "ef9d1504",
   "metadata": {},
   "source": [
    "## Construct a Pauli state"
   ]
  },
  {
   "cell_type": "code",
   "execution_count": 2,
   "id": "ba2c0f83",
   "metadata": {},
   "outputs": [],
   "source": [
    "from qiskit.quantum_info import Pauli"
   ]
  },
  {
   "cell_type": "code",
   "execution_count": 3,
   "id": "80a3b330",
   "metadata": {},
   "outputs": [
    {
     "name": "stdout",
     "output_type": "stream",
     "text": [
      "z0z1 is ZZI\n",
      "and its matrix is\n",
      "[[ 1.+0.j  0.+0.j  0.+0.j  0.+0.j  0.+0.j  0.+0.j  0.+0.j  0.+0.j]\n",
      " [ 0.+0.j  1.+0.j  0.+0.j  0.+0.j  0.+0.j  0.+0.j  0.+0.j  0.+0.j]\n",
      " [ 0.+0.j  0.+0.j -1.+0.j  0.+0.j  0.+0.j  0.+0.j  0.+0.j  0.+0.j]\n",
      " [ 0.+0.j  0.+0.j  0.+0.j -1.+0.j  0.+0.j  0.+0.j  0.+0.j  0.+0.j]\n",
      " [ 0.+0.j  0.+0.j  0.+0.j  0.+0.j -1.+0.j  0.+0.j  0.+0.j  0.+0.j]\n",
      " [ 0.+0.j  0.+0.j  0.+0.j  0.+0.j  0.+0.j -1.+0.j  0.+0.j  0.+0.j]\n",
      " [ 0.+0.j  0.+0.j  0.+0.j  0.+0.j  0.+0.j  0.+0.j  1.+0.j  0.+0.j]\n",
      " [ 0.+0.j  0.+0.j  0.+0.j  0.+0.j  0.+0.j  0.+0.j  0.+0.j  1.+0.j]]\n"
     ]
    }
   ],
   "source": [
    "z0z1 = Pauli(\"ZZI\")\n",
    "print(\"z0z1 is\", z0z1)\n",
    "print('and its matrix is')\n",
    "print(z0z1.to_matrix())"
   ]
  },
  {
   "cell_type": "code",
   "execution_count": 4,
   "id": "a183a8b4",
   "metadata": {},
   "outputs": [
    {
     "name": "stdout",
     "output_type": "stream",
     "text": [
      "The sparse representation of z0z1 is\n",
      "<Compressed Sparse Row sparse matrix of dtype 'complex128'\n",
      "\twith 8 stored elements and shape (8, 8)>\n",
      "  Coords\tValues\n",
      "  (0, 0)\t(1+0j)\n",
      "  (1, 1)\t(1+0j)\n",
      "  (2, 2)\t(-1+0j)\n",
      "  (3, 3)\t(-1+0j)\n",
      "  (4, 4)\t(-1+0j)\n",
      "  (5, 5)\t(-1+0j)\n",
      "  (6, 6)\t(1+0j)\n",
      "  (7, 7)\t(1+0j)\n"
     ]
    }
   ],
   "source": [
    "print('The sparse representation of z0z1 is')\n",
    "print(z0z1.to_matrix(sparse=True))"
   ]
  },
  {
   "cell_type": "markdown",
   "id": "ce86c69e",
   "metadata": {},
   "source": [
    "## Operate a Pauli state like Z or I"
   ]
  },
  {
   "cell_type": "code",
   "execution_count": 5,
   "id": "347a7ef9",
   "metadata": {},
   "outputs": [],
   "source": [
    "from qiskit.quantum_info import SparsePauliOp as PauliOp"
   ]
  },
  {
   "cell_type": "code",
   "execution_count": 6,
   "id": "7e3260e2",
   "metadata": {},
   "outputs": [
    {
     "name": "stdout",
     "output_type": "stream",
     "text": [
      "H_cut is\n",
      "SparsePauliOp(['ZZI', 'ZIZ'],\n",
      "              coeffs=[1.+0.j, 1.+0.j])\n",
      "The sparse representation of H_cut is\n",
      "<Compressed Sparse Row sparse matrix of dtype 'complex128'\n",
      "\twith 8 stored elements and shape (8, 8)>\n",
      "  Coords\tValues\n",
      "  (0, 0)\t(2+0j)\n",
      "  (1, 1)\t0j\n",
      "  (2, 2)\t0j\n",
      "  (3, 3)\t(-2+0j)\n",
      "  (4, 4)\t(-2+0j)\n",
      "  (5, 5)\t0j\n",
      "  (6, 6)\t0j\n",
      "  (7, 7)\t(2+0j)\n"
     ]
    }
   ],
   "source": [
    "H_cut = PauliOp(Pauli(\"ZZI\")) + PauliOp(Pauli(\"ZIZ\"))\n",
    "print('H_cut is')\n",
    "print(H_cut)\n",
    "print('The sparse representation of H_cut is')\n",
    "print(H_cut.to_matrix(sparse=True))"
   ]
  },
  {
   "cell_type": "markdown",
   "id": "0411f509",
   "metadata": {},
   "source": [
    "## Construct a linear combination of Hamiltonian"
   ]
  },
  {
   "cell_type": "code",
   "execution_count": null,
   "id": "6cf54ca9",
   "metadata": {},
   "outputs": [
    {
     "name": "stdout",
     "output_type": "stream",
     "text": [
      "(-2+0j)\n"
     ]
    }
   ],
   "source": [
    "psi = one^zero^zero\n",
    "E = psi.expectation_value(H_cut)\n",
    "print(E)"
   ]
  },
  {
   "cell_type": "code",
   "execution_count": 1,
   "id": "723ffa2b",
   "metadata": {},
   "outputs": [],
   "source": [
    "from qiskit import QuantumCircuit\n",
    "from qiskit.quantum_info import Statevector, Operator, Pauli\n",
    "from qiskit.quantum_info.operators import Pauli\n",
    "from qiskit.circuit.library import RZZGate, RXGate\n",
    "import numpy as np\n"
   ]
  },
  {
   "cell_type": "code",
   "execution_count": 2,
   "id": "9f0406a9",
   "metadata": {},
   "outputs": [],
   "source": [
    "from qiskit_aer import AerSimulator"
   ]
  },
  {
   "cell_type": "code",
   "execution_count": 56,
   "id": "952f3021",
   "metadata": {},
   "outputs": [
    {
     "data": {
      "text/latex": [
       "$$\\frac{\\sqrt{2}}{4} |000\\rangle+\\frac{\\sqrt{2}}{4} |001\\rangle+\\frac{\\sqrt{2}}{4} |010\\rangle+\\frac{\\sqrt{2}}{4} |011\\rangle+\\frac{\\sqrt{2}}{4} |100\\rangle+\\frac{\\sqrt{2}}{4} |101\\rangle+\\frac{\\sqrt{2}}{4} |110\\rangle+\\frac{\\sqrt{2}}{4} |111\\rangle$$"
      ],
      "text/plain": [
       "<IPython.core.display.Latex object>"
      ]
     },
     "execution_count": 56,
     "metadata": {},
     "output_type": "execute_result"
    }
   ],
   "source": [
    "n_qubits = 3\n",
    "qc = QuantumCircuit(n_qubits)\n",
    "\n",
    "# 初始态：全 Hadamard 得到 |+⟩⊗3\n",
    "qc.h(range(n_qubits))\n",
    "\n",
    "# 得到初始状态向量\n",
    "state = Statevector.from_instruction(qc)\n",
    "state.draw('latex')  # 可视化（文本形式）\n"
   ]
  },
  {
   "cell_type": "code",
   "execution_count": 57,
   "id": "69b259b2",
   "metadata": {},
   "outputs": [
    {
     "data": {
      "text/latex": [
       "$$(0.2542204403 + 0.2457070771 i) |000\\rangle+(0.2542204403 - 0.2457070771 i) |001\\rangle+\\frac{\\sqrt{2}}{4} |010\\rangle+\\frac{\\sqrt{2}}{4} |011\\rangle+\\frac{\\sqrt{2}}{4} |100\\rangle+\\frac{\\sqrt{2}}{4} |101\\rangle+(0.2542204403 - 0.2457070771 i) |110\\rangle+(0.2542204403 + 0.2457070771 i) |111\\rangle$$"
      ],
      "text/plain": [
       "<IPython.core.display.Latex object>"
      ]
     },
     "execution_count": 57,
     "metadata": {},
     "output_type": "execute_result"
    }
   ],
   "source": [
    "gamma = 5.899\n",
    "\n",
    "qc_cost = QuantumCircuit(n_qubits)\n",
    "qc_cost.append(RZZGate(2 * gamma), [0, 1])  # Z0·Z1\n",
    "qc_cost.append(RZZGate(2 * gamma), [0, 2])  # Z0·Z2\n",
    "\n",
    "# 应用成本哈密顿量作用\n",
    "state = state.evolve(qc_cost)\n",
    "state.draw('latex')\n"
   ]
  },
  {
   "cell_type": "code",
   "execution_count": 58,
   "id": "c0b3a1a2",
   "metadata": {},
   "outputs": [
    {
     "data": {
      "text/latex": [
       "$$(0.009753793 + 0.0797477324 i) |000\\rangle+(0.4809000584 + 0.2194225964 i) |001\\rangle+(0.217093477 + 0.2448212258 i) |010\\rangle+(0.217093477 + 0.2448212258 i) |011\\rangle+(0.217093477 + 0.2448212258 i) |100\\rangle+(0.217093477 + 0.2448212258 i) |101\\rangle+(0.4809000584 + 0.2194225964 i) |110\\rangle+(0.009753793 + 0.0797477324 i) |111\\rangle$$"
      ],
      "text/plain": [
       "<IPython.core.display.Latex object>"
      ]
     },
     "execution_count": 58,
     "metadata": {},
     "output_type": "execute_result"
    }
   ],
   "source": [
    "beta = 1.859\n",
    "\n",
    "qc_mixer = QuantumCircuit(n_qubits)\n",
    "for i in range(n_qubits):\n",
    "    qc_mixer.rx(2 * beta, i)\n",
    "\n",
    "# 应用混合哈密顿量作用\n",
    "state = state.evolve(qc_mixer)\n",
    "state.draw('latex')  # 查看最终状态向量\n"
   ]
  },
  {
   "cell_type": "code",
   "execution_count": 59,
   "id": "f93cb73b",
   "metadata": {},
   "outputs": [
    {
     "name": "stdout",
     "output_type": "stream",
     "text": [
      "期望能量 E(γ=5.899, β=1.859): -0.40244869223439284\n"
     ]
    }
   ],
   "source": [
    "# 定义 Z·Z Pauli 乘积项\n",
    "ZZ_01 = Pauli('ZZI')\n",
    "ZZ_02 = Pauli('ZIZ')\n",
    "\n",
    "# 构造总哈密顿量算符（加法组合）\n",
    "H_C = Operator(ZZ_01) + Operator(ZZ_02)\n",
    "\n",
    "# 计算期望值\n",
    "expectation = np.real(state.expectation_value(H_C))\n",
    "print(f\"期望能量 E(γ={gamma}, β={beta}): {expectation}\")\n"
   ]
  },
  {
   "cell_type": "code",
   "execution_count": 50,
   "id": "e8927603",
   "metadata": {},
   "outputs": [
    {
     "name": "stdout",
     "output_type": "stream",
     "text": [
      "Minimum at γ=5.899, β=1.859\n",
      "expected E = 2.9995195653237143e-31\n"
     ]
    }
   ],
   "source": [
    "import numpy as np\n",
    "import matplotlib.pyplot as plt\n",
    "from qiskit import QuantumCircuit\n",
    "from qiskit.circuit.library import RZZGate\n",
    "from qiskit.quantum_info import Statevector, Operator, Pauli\n",
    "\n",
    "# 定义 ZZ 哈密顿量\n",
    "ZZ_01 = Pauli('ZZI')\n",
    "ZZ_02 = Pauli('ZIZ')\n",
    "H_C = Operator(ZZ_01) + Operator(ZZ_02)\n",
    "\n",
    "# 扫描参数空间\n",
    "gamma_list = np.linspace(0, 2*np.pi, 50)\n",
    "beta_list = np.linspace(0, np.pi, 50)\n",
    "\n",
    "expectation_grid = np.zeros((len(gamma_list), len(beta_list)))\n",
    "\n",
    "for i, gamma in enumerate(gamma_list):\n",
    "    for j, beta in enumerate(beta_list):\n",
    "        n_qubits = 3\n",
    "        \n",
    "        # 初态 |+>⊗3\n",
    "        qc_init = QuantumCircuit(n_qubits)\n",
    "        qc_init.h(range(n_qubits))\n",
    "        state = Statevector.from_instruction(qc_init)\n",
    "\n",
    "        # 成本哈密顿量作用\n",
    "        qc_cost = QuantumCircuit(n_qubits)\n",
    "        qc_cost.append(RZZGate(2 * gamma), [0, 1])\n",
    "        qc_cost.append(RZZGate(2 * gamma), [0, 2])\n",
    "        state = state.evolve(qc_cost)\n",
    "\n",
    "        # 混合哈密顿量作用\n",
    "        qc_mixer = QuantumCircuit(n_qubits)\n",
    "        for q in range(n_qubits):\n",
    "            qc_mixer.rx(2 * beta, q)\n",
    "        state = state.evolve(qc_mixer)\n",
    "\n",
    "        # 计算期望能量\n",
    "        E = np.real(state.expectation_value(H_C))\n",
    "        expectation_grid[i, j] = E\n",
    "min_idx = np.unravel_index(np.argmin(expectation_grid), expectation_grid.shape)\n",
    "print(f\"Minimum at γ={gamma_list[min_idx[0]]:.3f}, β={beta_list[min_idx[1]]:.3f}\")\n",
    "print(f'expected E = {E}')"
   ]
  },
  {
   "cell_type": "code",
   "execution_count": 51,
   "id": "483d31fb",
   "metadata": {},
   "outputs": [
    {
     "data": {
      "image/png": "[encoded data removed]",
      "text/plain": [
       "<Figure size 800x600 with 2 Axes>"
      ]
     },
     "metadata": {},
     "output_type": "display_data"
    }
   ],
   "source": [
    "plt.figure(figsize=(8, 6))\n",
    "plt.imshow(expectation_grid.T, extent=(0, 2*np.pi, 0, np.pi), origin='lower',\n",
    "           aspect='auto', cmap='viridis')\n",
    "plt.colorbar(label='Expected Energy ⟨H_C⟩')\n",
    "plt.xlabel('Gamma (γ)')\n",
    "plt.ylabel('Beta (β)')\n",
    "plt.title('QAOA Energy Landscape')\n",
    "plt.show()\n",
    "\n",
    "\n"
   ]
  }
 ],
 "metadata": {
  "kernelspec": {
   "display_name": "base",
   "language": "python",
   "name": "python3"
  },
  "language_info": {
   "codemirror_mode": {
    "name": "ipython",
    "version": 3
   },
   "file_extension": ".py",
   "mimetype": "text/x-python",
   "name": "python",
   "nbconvert_exporter": "python",
   "pygments_lexer": "ipython3",
   "version": "3.13.4"
  }
 },
 "nbformat": 4,
 "nbformat_minor": 5
}
