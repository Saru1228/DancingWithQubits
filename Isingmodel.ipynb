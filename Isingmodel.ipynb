{
 "cells": [
  {
   "cell_type": "markdown",
   "id": "2523054f",
   "metadata": {},
   "source": [
    "# Ising Model"
   ]
  },
  {
   "cell_type": "markdown",
   "id": "688c4811",
   "metadata": {},
   "source": [
    "## construct a 3-qubit state"
   ]
  },
  {
   "cell_type": "markdown",
   "id": "dbbb0df2",
   "metadata": {},
   "source": [
    "#### Construct basic qubit by Statevector"
   ]
  },
  {
   "cell_type": "markdown",
   "id": "e512e74c",
   "metadata": {},
   "source": [
    "U can contruct by 2 following forms:\n",
    "\n",
    "- 1 psi = one.tensor(zero.tensor(zero))\n",
    "  - which means \"$1\\otimes0\\otimes0$\"\n",
    "- 2 psi = one ^ zero ^ zero\n",
    "  - also means \"$1\\otimes0\\otimes0$\""
   ]
  },
  {
   "cell_type": "code",
   "execution_count": 3,
   "id": "0475a186",
   "metadata": {},
   "outputs": [
    {
     "name": "stdout",
     "output_type": "stream",
     "text": [
      "zero\tis Statevector([1.+0.j, 0.+0.j],\n",
      "            dims=(2,))\n",
      "psi is Statevector([0.+0.j, 0.+0.j, 0.+0.j, 0.+0.j, 1.+0.j, 0.+0.j, 0.+0.j,\n",
      "             0.+0.j],\n",
      "            dims=(2, 2, 2))\n"
     ]
    },
    {
     "data": {
      "text/latex": [
       "$$\\frac{\\sqrt{2}}{2} |000\\rangle+\\frac{\\sqrt{2}}{2} |111\\rangle$$"
      ],
      "text/plain": [
       "<IPython.core.display.Latex object>"
      ]
     },
     "execution_count": 3,
     "metadata": {},
     "output_type": "execute_result"
    }
   ],
   "source": [
    "from qiskit.quantum_info import Statevector\n",
    "import numpy as np\n",
    "import pylatexenc\n",
    "\n",
    "zero = Statevector([1,0])\n",
    "print(\"zero\tis\", zero)\n",
    "one = Statevector([0,1])\n",
    "\n",
    "psi = one.tensor(zero.tensor(zero))\n",
    "print('psi is', psi)\n",
    "\n",
    "psi = one^zero^zero\n",
    "psi.draw(\"latex\")\n",
    "\n",
    "psi = 1/np.sqrt(2) * (zero^zero^zero) + 1/np.sqrt(2) * (one^one^one)\n",
    "psi.draw(\"latex\")"
   ]
  },
  {
   "cell_type": "markdown",
   "id": "ef9d1504",
   "metadata": {},
   "source": [
    "## Construct a Pauli state"
   ]
  },
  {
   "cell_type": "markdown",
   "id": "45494d15",
   "metadata": {},
   "source": [
    "This step is acutually construct *Cost Hamiltonian* for encoding"
   ]
  },
  {
   "cell_type": "code",
   "execution_count": 4,
   "id": "ba2c0f83",
   "metadata": {},
   "outputs": [],
   "source": [
    "from qiskit.quantum_info import Pauli"
   ]
  },
  {
   "cell_type": "code",
   "execution_count": 5,
   "id": "80a3b330",
   "metadata": {},
   "outputs": [
    {
     "name": "stdout",
     "output_type": "stream",
     "text": [
      "z0z1 is ZZI\n",
      "and its matrix is\n",
      "[[ 1.+0.j  0.+0.j  0.+0.j  0.+0.j  0.+0.j  0.+0.j  0.+0.j  0.+0.j]\n",
      " [ 0.+0.j  1.+0.j  0.+0.j  0.+0.j  0.+0.j  0.+0.j  0.+0.j  0.+0.j]\n",
      " [ 0.+0.j  0.+0.j -1.+0.j  0.+0.j  0.+0.j  0.+0.j  0.+0.j  0.+0.j]\n",
      " [ 0.+0.j  0.+0.j  0.+0.j -1.+0.j  0.+0.j  0.+0.j  0.+0.j  0.+0.j]\n",
      " [ 0.+0.j  0.+0.j  0.+0.j  0.+0.j -1.+0.j  0.+0.j  0.+0.j  0.+0.j]\n",
      " [ 0.+0.j  0.+0.j  0.+0.j  0.+0.j  0.+0.j -1.+0.j  0.+0.j  0.+0.j]\n",
      " [ 0.+0.j  0.+0.j  0.+0.j  0.+0.j  0.+0.j  0.+0.j  1.+0.j  0.+0.j]\n",
      " [ 0.+0.j  0.+0.j  0.+0.j  0.+0.j  0.+0.j  0.+0.j  0.+0.j  1.+0.j]]\n"
     ]
    }
   ],
   "source": [
    "z0z1 = Pauli(\"ZZI\")\n",
    "print(\"z0z1 is\", z0z1)\n",
    "print('and its matrix is')\n",
    "print(z0z1.to_matrix())"
   ]
  },
  {
   "cell_type": "code",
   "execution_count": 6,
   "id": "a183a8b4",
   "metadata": {},
   "outputs": [
    {
     "name": "stdout",
     "output_type": "stream",
     "text": [
      "The sparse representation of z0z1 is\n",
      "<Compressed Sparse Row sparse matrix of dtype 'complex128'\n",
      "\twith 8 stored elements and shape (8, 8)>\n",
      "  Coords\tValues\n",
      "  (0, 0)\t(1+0j)\n",
      "  (1, 1)\t(1+0j)\n",
      "  (2, 2)\t(-1+0j)\n",
      "  (3, 3)\t(-1+0j)\n",
      "  (4, 4)\t(-1+0j)\n",
      "  (5, 5)\t(-1+0j)\n",
      "  (6, 6)\t(1+0j)\n",
      "  (7, 7)\t(1+0j)\n"
     ]
    }
   ],
   "source": [
    "print('The sparse representation of z0z1 is')\n",
    "print(z0z1.to_matrix(sparse=True))"
   ]
  },
  {
   "cell_type": "markdown",
   "id": "ce86c69e",
   "metadata": {},
   "source": [
    "## Operate a Pauli state like Z or I"
   ]
  },
  {
   "cell_type": "code",
   "execution_count": 7,
   "id": "347a7ef9",
   "metadata": {},
   "outputs": [],
   "source": [
    "from qiskit.quantum_info import SparsePauliOp as PauliOp"
   ]
  },
  {
   "cell_type": "code",
   "execution_count": 8,
   "id": "7e3260e2",
   "metadata": {},
   "outputs": [
    {
     "name": "stdout",
     "output_type": "stream",
     "text": [
      "H_cut is\n",
      "SparsePauliOp(['ZZI', 'ZIZ'],\n",
      "              coeffs=[1.+0.j, 1.+0.j])\n",
      "The sparse representation of H_cut is\n",
      "<Compressed Sparse Row sparse matrix of dtype 'complex128'\n",
      "\twith 8 stored elements and shape (8, 8)>\n",
      "  Coords\tValues\n",
      "  (0, 0)\t(2+0j)\n",
      "  (1, 1)\t0j\n",
      "  (2, 2)\t0j\n",
      "  (3, 3)\t(-2+0j)\n",
      "  (4, 4)\t(-2+0j)\n",
      "  (5, 5)\t0j\n",
      "  (6, 6)\t0j\n",
      "  (7, 7)\t(2+0j)\n"
     ]
    }
   ],
   "source": [
    "H_cut = PauliOp(Pauli(\"ZZI\")) + PauliOp(Pauli(\"ZIZ\"))\n",
    "print('H_cut is')\n",
    "print(H_cut)\n",
    "print('The sparse representation of H_cut is')\n",
    "print(H_cut.to_matrix(sparse=True))"
   ]
  },
  {
   "cell_type": "markdown",
   "id": "0411f509",
   "metadata": {},
   "source": [
    "## Construct a linear combination of Hamiltonian"
   ]
  },
  {
   "cell_type": "code",
   "execution_count": 2,
   "id": "847b973c",
   "metadata": {},
   "outputs": [],
   "source": [
    "from qiskit import QuantumCircuit"
   ]
  },
  {
   "cell_type": "code",
   "execution_count": 1,
   "id": "55c64f75",
   "metadata": {},
   "outputs": [],
   "source": [
    "# 所有三比特的基态\n",
    "basis_states = ['000', '001', '010', '011', '100', '101', '110', '111']"
   ]
  },
  {
   "cell_type": "code",
   "execution_count": 9,
   "id": "0e8e2eac",
   "metadata": {},
   "outputs": [
    {
     "name": "stdout",
     "output_type": "stream",
     "text": [
      "State |000>: Expectation value = (2+0j)\n",
      "State |001>: Expectation value = 0j\n",
      "State |010>: Expectation value = 0j\n",
      "State |011>: Expectation value = (-2+0j)\n",
      "State |100>: Expectation value = (-2+0j)\n",
      "State |101>: Expectation value = 0j\n",
      "State |110>: Expectation value = 0j\n",
      "State |111>: Expectation value = (2+0j)\n"
     ]
    }
   ],
   "source": [
    "for state_str in basis_states:\n",
    "    # 创建对应的量子电路\n",
    "    qc = QuantumCircuit(3)\n",
    "    # 初始化到对应的基态\n",
    "    qc.initialize([1,0], 0)\n",
    "    qc.initialize([0,1], 1)\n",
    "    qc.initialize([1,0], 2)\n",
    "    # 或者直接用Statevector\n",
    "    state = Statevector.from_label(state_str)\n",
    "    E = state.expectation_value(H_cut)\n",
    "    print(f\"State |{state_str}>: Expectation value = {E}\")\n"
   ]
  },
  {
   "cell_type": "code",
   "execution_count": 10,
   "id": "6cf54ca9",
   "metadata": {},
   "outputs": [
    {
     "name": "stdout",
     "output_type": "stream",
     "text": [
      "(-2+0j)\n"
     ]
    }
   ],
   "source": [
    "psi = one^zero^zero\n",
    "E = psi.expectation_value(H_cut)\n",
    "print(E)"
   ]
  }
 ],
 "metadata": {
  "kernelspec": {
   "display_name": "base",
   "language": "python",
   "name": "python3"
  },
  "language_info": {
   "codemirror_mode": {
    "name": "ipython",
    "version": 3
   },
   "file_extension": ".py",
   "mimetype": "text/x-python",
   "name": "python",
   "nbconvert_exporter": "python",
   "pygments_lexer": "ipython3",
   "version": "3.13.4"
  }
 },
 "nbformat": 4,
 "nbformat_minor": 5
}
