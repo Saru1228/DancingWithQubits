{
 "cells": [
  {
   "cell_type": "markdown",
   "id": "2523054f",
   "metadata": {},
   "source": [
    "# Ising Model"
   ]
  },
  {
   "cell_type": "code",
   "execution_count": 1,
   "id": "0475a186",
   "metadata": {},
   "outputs": [
    {
     "name": "stdout",
     "output_type": "stream",
     "text": [
      "zero\tis Statevector([1.+0.j, 0.+0.j],\n",
      "            dims=(2,))\n",
      "psi is Statevector([0.+0.j, 0.+0.j, 0.+0.j, 0.+0.j, 1.+0.j, 0.+0.j, 0.+0.j,\n",
      "             0.+0.j],\n",
      "            dims=(2, 2, 2))\n"
     ]
    },
    {
     "data": {
      "text/latex": [
       "$$\\frac{\\sqrt{2}}{2} |000\\rangle+\\frac{\\sqrt{2}}{2} |111\\rangle$$"
      ],
      "text/plain": [
       "<IPython.core.display.Latex object>"
      ]
     },
     "execution_count": 1,
     "metadata": {},
     "output_type": "execute_result"
    }
   ],
   "source": [
    "from qiskit.quantum_info import Statevector\n",
    "import numpy as np\n",
    "import pylatexenc\n",
    "\n",
    "zero = Statevector([1,0])\n",
    "print(\"zero\tis\", zero)\n",
    "one = Statevector([0,1])\n",
    "\n",
    "psi = one.tensor(zero.tensor(zero))\n",
    "print('psi is', psi)\n",
    "\n",
    "psi = one^zero^zero\n",
    "psi.draw(\"latex\")\n",
    "\n",
    "psi = 1/np.sqrt(2) * (zero^zero^zero) + 1/np.sqrt(2) * (one^one^one)\n",
    "psi.draw(\"latex\")"
   ]
  },
  {
   "cell_type": "code",
   "execution_count": 2,
   "id": "ba2c0f83",
   "metadata": {},
   "outputs": [],
   "source": [
    "from qiskit.quantum_info import Pauli"
   ]
  },
  {
   "cell_type": "code",
   "execution_count": 3,
   "id": "80a3b330",
   "metadata": {},
   "outputs": [
    {
     "name": "stdout",
     "output_type": "stream",
     "text": [
      "z0z1 is ZZI\n",
      "and its matrix is\n",
      "[[ 1.+0.j  0.+0.j  0.+0.j  0.+0.j  0.+0.j  0.+0.j  0.+0.j  0.+0.j]\n",
      " [ 0.+0.j  1.+0.j  0.+0.j  0.+0.j  0.+0.j  0.+0.j  0.+0.j  0.+0.j]\n",
      " [ 0.+0.j  0.+0.j -1.+0.j  0.+0.j  0.+0.j  0.+0.j  0.+0.j  0.+0.j]\n",
      " [ 0.+0.j  0.+0.j  0.+0.j -1.+0.j  0.+0.j  0.+0.j  0.+0.j  0.+0.j]\n",
      " [ 0.+0.j  0.+0.j  0.+0.j  0.+0.j -1.+0.j  0.+0.j  0.+0.j  0.+0.j]\n",
      " [ 0.+0.j  0.+0.j  0.+0.j  0.+0.j  0.+0.j -1.+0.j  0.+0.j  0.+0.j]\n",
      " [ 0.+0.j  0.+0.j  0.+0.j  0.+0.j  0.+0.j  0.+0.j  1.+0.j  0.+0.j]\n",
      " [ 0.+0.j  0.+0.j  0.+0.j  0.+0.j  0.+0.j  0.+0.j  0.+0.j  1.+0.j]]\n"
     ]
    }
   ],
   "source": [
    "z0z1 = Pauli(\"ZZI\")\n",
    "print(\"z0z1 is\", z0z1)\n",
    "print('and its matrix is')\n",
    "print(z0z1.to_matrix())"
   ]
  },
  {
   "cell_type": "code",
   "execution_count": 4,
   "id": "a183a8b4",
   "metadata": {},
   "outputs": [
    {
     "name": "stdout",
     "output_type": "stream",
     "text": [
      "The sparse representation of z0z1 is\n",
      "<Compressed Sparse Row sparse matrix of dtype 'complex128'\n",
      "\twith 8 stored elements and shape (8, 8)>\n",
      "  Coords\tValues\n",
      "  (0, 0)\t(1+0j)\n",
      "  (1, 1)\t(1+0j)\n",
      "  (2, 2)\t(-1+0j)\n",
      "  (3, 3)\t(-1+0j)\n",
      "  (4, 4)\t(-1+0j)\n",
      "  (5, 5)\t(-1+0j)\n",
      "  (6, 6)\t(1+0j)\n",
      "  (7, 7)\t(1+0j)\n"
     ]
    }
   ],
   "source": [
    "print('The sparse representation of z0z1 is')\n",
    "print(z0z1.to_matrix(sparse=True))"
   ]
  },
  {
   "cell_type": "code",
   "execution_count": 9,
   "id": "347a7ef9",
   "metadata": {},
   "outputs": [],
   "source": [
    "from qiskit.quantum_info import SparsePauliOp as PauliOp"
   ]
  },
  {
   "cell_type": "code",
   "execution_count": 11,
   "id": "7e3260e2",
   "metadata": {},
   "outputs": [
    {
     "name": "stdout",
     "output_type": "stream",
     "text": [
      "H_cut is\n",
      "SparsePauliOp(['ZZI', 'ZIZ'],\n",
      "              coeffs=[1.+0.j, 1.+0.j])\n",
      "The sparse representation of H_cut is\n",
      "<Compressed Sparse Row sparse matrix of dtype 'complex128'\n",
      "\twith 8 stored elements and shape (8, 8)>\n",
      "  Coords\tValues\n",
      "  (0, 0)\t(2+0j)\n",
      "  (1, 1)\t0j\n",
      "  (2, 2)\t0j\n",
      "  (3, 3)\t(-2+0j)\n",
      "  (4, 4)\t(-2+0j)\n",
      "  (5, 5)\t0j\n",
      "  (6, 6)\t0j\n",
      "  (7, 7)\t(2+0j)\n"
     ]
    }
   ],
   "source": [
    "H_cut = PauliOp(Pauli(\"ZZI\")) + PauliOp(Pauli(\"ZIZ\"))\n",
    "print('H_cut is')\n",
    "print(H_cut)\n",
    "print('The sparse representation of H_cut is')\n",
    "print(H_cut.to_matrix(sparse=True))"
   ]
  },
  {
   "cell_type": "code",
   "execution_count": 13,
   "id": "6c1cecb0",
   "metadata": {},
   "outputs": [],
   "source": [
    "I = Pauli(\"I\")\n",
    "Z = Pauli('Z')"
   ]
  },
  {
   "cell_type": "code",
   "execution_count": 16,
   "id": "6cf54ca9",
   "metadata": {},
   "outputs": [
    {
     "ename": "QiskitError",
     "evalue": "'Pauli can only be multiplied by 1, -1j, -1, 1j.'",
     "output_type": "error",
     "traceback": [
      "\u001b[31m---------------------------------------------------------------------------\u001b[39m",
      "\u001b[31mQiskitError\u001b[39m                               Traceback (most recent call last)",
      "\u001b[36mCell\u001b[39m\u001b[36m \u001b[39m\u001b[32mIn[16]\u001b[39m\u001b[32m, line 1\u001b[39m\n\u001b[32m----> \u001b[39m\u001b[32m1\u001b[39m H_Ising = \u001b[43m-\u001b[49m\u001b[32;43m0.5\u001b[39;49m\u001b[43m*\u001b[49m\u001b[43m(\u001b[49m\u001b[43mZ\u001b[49m\u001b[43m^\u001b[49m\u001b[43mZ\u001b[49m\u001b[43m^\u001b[49m\u001b[43mI\u001b[49m\u001b[43m)\u001b[49m + \u001b[32m2\u001b[39m*(Z^I^Z) -(I^Z^Z) + (I^Z^I) -\u001b[32m5\u001b[39m*(I^I^Z)\n\u001b[32m      3\u001b[39m psi = one^zero^zero\n\u001b[32m      4\u001b[39m E = psi.expectation_value(H_cut)\n",
      "\u001b[36mFile \u001b[39m\u001b[32md:\\miniconda3\\Lib\\site-packages\\qiskit\\quantum_info\\operators\\mixins\\multiply.py:42\u001b[39m, in \u001b[36mMultiplyMixin.__rmul__\u001b[39m\u001b[34m(self, other)\u001b[39m\n\u001b[32m     41\u001b[39m \u001b[38;5;28;01mdef\u001b[39;00m\u001b[38;5;250m \u001b[39m\u001b[34m__rmul__\u001b[39m(\u001b[38;5;28mself\u001b[39m, other) -> Self:\n\u001b[32m---> \u001b[39m\u001b[32m42\u001b[39m     \u001b[38;5;28;01mreturn\u001b[39;00m \u001b[38;5;28;43mself\u001b[39;49m\u001b[43m.\u001b[49m\u001b[43m_multiply\u001b[49m\u001b[43m(\u001b[49m\u001b[43mother\u001b[49m\u001b[43m)\u001b[49m\n",
      "\u001b[36mFile \u001b[39m\u001b[32md:\\miniconda3\\Lib\\site-packages\\qiskit\\quantum_info\\operators\\symplectic\\pauli.py:518\u001b[39m, in \u001b[36mPauli._multiply\u001b[39m\u001b[34m(self, other)\u001b[39m\n\u001b[32m    517\u001b[39m \u001b[38;5;28;01mdef\u001b[39;00m\u001b[38;5;250m \u001b[39m\u001b[34m_multiply\u001b[39m(\u001b[38;5;28mself\u001b[39m, other):\n\u001b[32m--> \u001b[39m\u001b[32m518\u001b[39m     \u001b[38;5;28;01mreturn\u001b[39;00m Pauli(\u001b[38;5;28;43msuper\u001b[39;49m\u001b[43m(\u001b[49m\u001b[43m)\u001b[49m\u001b[43m.\u001b[49m\u001b[43m_multiply\u001b[49m\u001b[43m(\u001b[49m\u001b[43mother\u001b[49m\u001b[43m)\u001b[49m)\n",
      "\u001b[36mFile \u001b[39m\u001b[32md:\\miniconda3\\Lib\\site-packages\\qiskit\\quantum_info\\operators\\symplectic\\base_pauli.py:185\u001b[39m, in \u001b[36mBasePauli._multiply\u001b[39m\u001b[34m(self, other)\u001b[39m\n\u001b[32m    183\u001b[39m     phase = np.array([\u001b[38;5;28mself\u001b[39m._phase_from_complex(phase) \u001b[38;5;28;01mfor\u001b[39;00m phase \u001b[38;5;129;01min\u001b[39;00m other])\n\u001b[32m    184\u001b[39m \u001b[38;5;28;01melse\u001b[39;00m:\n\u001b[32m--> \u001b[39m\u001b[32m185\u001b[39m     phase = \u001b[38;5;28;43mself\u001b[39;49m\u001b[43m.\u001b[49m\u001b[43m_phase_from_complex\u001b[49m\u001b[43m(\u001b[49m\u001b[43mother\u001b[49m\u001b[43m)\u001b[49m\n\u001b[32m    186\u001b[39m \u001b[38;5;28;01mreturn\u001b[39;00m BasePauli(\u001b[38;5;28mself\u001b[39m._z, \u001b[38;5;28mself\u001b[39m._x, np.mod(\u001b[38;5;28mself\u001b[39m._phase + phase, \u001b[32m4\u001b[39m))\n",
      "\u001b[36mFile \u001b[39m\u001b[32md:\\miniconda3\\Lib\\site-packages\\qiskit\\quantum_info\\operators\\symplectic\\base_pauli.py:379\u001b[39m, in \u001b[36mBasePauli._phase_from_complex\u001b[39m\u001b[34m(coeff)\u001b[39m\n\u001b[32m    377\u001b[39m \u001b[38;5;28;01mif\u001b[39;00m np.isclose(coeff, \u001b[32m1\u001b[39mj):\n\u001b[32m    378\u001b[39m     \u001b[38;5;28;01mreturn\u001b[39;00m \u001b[32m3\u001b[39m\n\u001b[32m--> \u001b[39m\u001b[32m379\u001b[39m \u001b[38;5;28;01mraise\u001b[39;00m QiskitError(\u001b[33m\"\u001b[39m\u001b[33mPauli can only be multiplied by 1, -1j, -1, 1j.\u001b[39m\u001b[33m\"\u001b[39m)\n",
      "\u001b[31mQiskitError\u001b[39m: 'Pauli can only be multiplied by 1, -1j, -1, 1j.'"
     ]
    }
   ],
   "source": [
    "H_Ising = -0.5*(Z^Z^I) + 2*(Z^I^Z) -(I^Z^Z) + (I^Z^I) -5*(I^I^Z)\n",
    "\n",
    "psi = one^zero^zero\n",
    "E = psi.expectation_value(H_cut)\n",
    "print(E)"
   ]
  }
 ],
 "metadata": {
  "kernelspec": {
   "display_name": "base",
   "language": "python",
   "name": "python3"
  },
  "language_info": {
   "codemirror_mode": {
    "name": "ipython",
    "version": 3
   },
   "file_extension": ".py",
   "mimetype": "text/x-python",
   "name": "python",
   "nbconvert_exporter": "python",
   "pygments_lexer": "ipython3",
   "version": "3.13.4"
  }
 },
 "nbformat": 4,
 "nbformat_minor": 5
}
